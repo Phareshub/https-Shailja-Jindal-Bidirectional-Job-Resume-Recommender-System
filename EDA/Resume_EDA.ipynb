{
 "cells": [
  {
   "cell_type": "markdown",
   "metadata": {},
   "source": [
    "# Resumes:  EDA, Data Wrangling and Feature Engineering"
   ]
  },
  {
   "cell_type": "code",
   "execution_count": 1,
   "metadata": {},
   "outputs": [],
   "source": [
    "import numpy as np\n",
    "import pandas as pd\n",
    "import json\n",
    "import matplotlib.pyplot as plt\n",
    "%matplotlib inline\n",
    "\n",
    "import re\n",
    "import datetime\n",
    "from datetime import date\n",
    "from time import strptime\n",
    "\n",
    "import RAKE as rake\n",
    "import operator\n"
   ]
  },
  {
   "cell_type": "markdown",
   "metadata": {},
   "source": [
    "# Step 1. EDA\n",
    "* First removing nulls\n",
    "* making dataset 'even' by- \n",
    "        --dropping row/ columns \n",
    "        --imputing values as needed"
   ]
  },
  {
   "cell_type": "code",
   "execution_count": 30,
   "metadata": {},
   "outputs": [],
   "source": [
    "# First reading my resume csv\n",
    "resume = pd.read_csv('resume_data/master_resume_data.csv')"
   ]
  },
  {
   "cell_type": "code",
   "execution_count": 31,
   "metadata": {},
   "outputs": [
    {
     "name": "stdout",
     "output_type": "stream",
     "text": [
      "<class 'pandas.core.frame.DataFrame'>\n",
      "RangeIndex: 14798 entries, 0 to 14797\n",
      "Data columns (total 10 columns):\n",
      " #   Column                  Non-Null Count  Dtype \n",
      "---  ------                  --------------  ----- \n",
      " 0   Resume_title            14798 non-null  object\n",
      " 1   City                    14798 non-null  object\n",
      " 2   State                   14798 non-null  object\n",
      " 3   Description             14798 non-null  object\n",
      " 4   work_experiences        14798 non-null  object\n",
      " 5   Educations              14796 non-null  object\n",
      " 6   Skills                  14796 non-null  object\n",
      " 7   Links                   14796 non-null  object\n",
      " 8   Certificates            14796 non-null  object\n",
      " 9   Additional Information  14796 non-null  object\n",
      "dtypes: object(10)\n",
      "memory usage: 1.1+ MB\n"
     ]
    }
   ],
   "source": [
    "#initial info\n",
    "resume.info()"
   ]
  },
  {
   "cell_type": "markdown",
   "metadata": {},
   "source": [
    "### As, noticed, there are null values in dataset. So very first step is to study nulls and -remove or impute."
   ]
  },
  {
   "cell_type": "code",
   "execution_count": 32,
   "metadata": {},
   "outputs": [
    {
     "data": {
      "text/html": [
       "<div>\n",
       "<style scoped>\n",
       "    .dataframe tbody tr th:only-of-type {\n",
       "        vertical-align: middle;\n",
       "    }\n",
       "\n",
       "    .dataframe tbody tr th {\n",
       "        vertical-align: top;\n",
       "    }\n",
       "\n",
       "    .dataframe thead th {\n",
       "        text-align: right;\n",
       "    }\n",
       "</style>\n",
       "<table border=\"1\" class=\"dataframe\">\n",
       "  <thead>\n",
       "    <tr style=\"text-align: right;\">\n",
       "      <th></th>\n",
       "      <th>Resume_title</th>\n",
       "      <th>City</th>\n",
       "      <th>State</th>\n",
       "      <th>Description</th>\n",
       "      <th>work_experiences</th>\n",
       "      <th>Educations</th>\n",
       "      <th>Skills</th>\n",
       "      <th>Links</th>\n",
       "      <th>Certificates</th>\n",
       "      <th>Additional Information</th>\n",
       "    </tr>\n",
       "  </thead>\n",
       "  <tbody>\n",
       "    <tr>\n",
       "      <th>4701</th>\n",
       "      <td>Independent Consultant</td>\n",
       "      <td>Chennai</td>\n",
       "      <td>Tamil Nadu</td>\n",
       "      <td>Name: Gopalan Lakshmipathy \\n \\nEmail Id: Gopa...</td>\n",
       "      <td>{0: [{'wtitle:': 'Independent Consultant'}, {'...</td>\n",
       "      <td>NaN</td>\n",
       "      <td>NaN</td>\n",
       "      <td>NaN</td>\n",
       "      <td>NaN</td>\n",
       "      <td>NaN</td>\n",
       "    </tr>\n",
       "    <tr>\n",
       "      <th>4723</th>\n",
       "      <td>NONE</td>\n",
       "      <td>Chennai</td>\n",
       "      <td>Tamil Nadu</td>\n",
       "      <td>NONE</td>\n",
       "      <td>{0: [{'wtitle:': 'Dean &amp; Curriculum Developmen...</td>\n",
       "      <td>NaN</td>\n",
       "      <td>NaN</td>\n",
       "      <td>NaN</td>\n",
       "      <td>NaN</td>\n",
       "      <td>NaN</td>\n",
       "    </tr>\n",
       "  </tbody>\n",
       "</table>\n",
       "</div>"
      ],
      "text/plain": [
       "                Resume_title     City        State  \\\n",
       "4701  Independent Consultant  Chennai   Tamil Nadu   \n",
       "4723                    NONE  Chennai   Tamil Nadu   \n",
       "\n",
       "                                            Description  \\\n",
       "4701  Name: Gopalan Lakshmipathy \\n \\nEmail Id: Gopa...   \n",
       "4723                                               NONE   \n",
       "\n",
       "                                       work_experiences Educations Skills  \\\n",
       "4701  {0: [{'wtitle:': 'Independent Consultant'}, {'...        NaN    NaN   \n",
       "4723  {0: [{'wtitle:': 'Dean & Curriculum Developmen...        NaN    NaN   \n",
       "\n",
       "     Links Certificates Additional Information  \n",
       "4701   NaN          NaN                    NaN  \n",
       "4723   NaN          NaN                    NaN  "
      ]
     },
     "execution_count": 32,
     "metadata": {},
     "output_type": "execute_result"
    }
   ],
   "source": [
    "#checking null rows\n",
    "resume[resume.isnull().any(axis=1)]"
   ]
  },
  {
   "cell_type": "code",
   "execution_count": 33,
   "metadata": {},
   "outputs": [],
   "source": [
    "#dropping null rows\n",
    "resume = resume.dropna()\n",
    "resume = resume.reset_index(drop=True)"
   ]
  },
  {
   "cell_type": "code",
   "execution_count": 41,
   "metadata": {},
   "outputs": [
    {
     "name": "stdout",
     "output_type": "stream",
     "text": [
      "<class 'pandas.core.frame.DataFrame'>\n",
      "RangeIndex: 14796 entries, 0 to 14795\n",
      "Data columns (total 10 columns):\n",
      " #   Column                  Non-Null Count  Dtype \n",
      "---  ------                  --------------  ----- \n",
      " 0   Resume_title            14796 non-null  object\n",
      " 1   City                    14796 non-null  object\n",
      " 2   State                   14796 non-null  object\n",
      " 3   Description             14796 non-null  object\n",
      " 4   work_experiences        14796 non-null  object\n",
      " 5   Educations              14796 non-null  object\n",
      " 6   Skills                  14796 non-null  object\n",
      " 7   Links                   14796 non-null  object\n",
      " 8   Certificates            14796 non-null  object\n",
      " 9   Additional Information  14796 non-null  object\n",
      "dtypes: object(10)\n",
      "memory usage: 1.1+ MB\n"
     ]
    }
   ],
   "source": [
    "resume.info()"
   ]
  },
  {
   "cell_type": "markdown",
   "metadata": {},
   "source": [
    "## Eyeballing dataset"
   ]
  },
  {
   "cell_type": "code",
   "execution_count": 42,
   "metadata": {},
   "outputs": [
    {
     "data": {
      "text/html": [
       "<div>\n",
       "<style scoped>\n",
       "    .dataframe tbody tr th:only-of-type {\n",
       "        vertical-align: middle;\n",
       "    }\n",
       "\n",
       "    .dataframe tbody tr th {\n",
       "        vertical-align: top;\n",
       "    }\n",
       "\n",
       "    .dataframe thead th {\n",
       "        text-align: right;\n",
       "    }\n",
       "</style>\n",
       "<table border=\"1\" class=\"dataframe\">\n",
       "  <thead>\n",
       "    <tr style=\"text-align: right;\">\n",
       "      <th></th>\n",
       "      <th>Resume_title</th>\n",
       "      <th>City</th>\n",
       "      <th>State</th>\n",
       "      <th>Description</th>\n",
       "      <th>work_experiences</th>\n",
       "      <th>Educations</th>\n",
       "      <th>Skills</th>\n",
       "      <th>Links</th>\n",
       "      <th>Certificates</th>\n",
       "      <th>Additional Information</th>\n",
       "    </tr>\n",
       "  </thead>\n",
       "  <tbody>\n",
       "    <tr>\n",
       "      <th>0</th>\n",
       "      <td>Java Developer</td>\n",
       "      <td>Tirur</td>\n",
       "      <td>Kerala</td>\n",
       "      <td>To prove myself dedicated, worthy and energeti...</td>\n",
       "      <td>{0: [{'wtitle:': 'Java Developer'}, {'wcompany...</td>\n",
       "      <td>{0: [{'e_title:': \"Bachelor's in Bachelor of C...</td>\n",
       "      <td>['Java (Less than 1 year)', ' Jsp (Less than 1...</td>\n",
       "      <td>['https://www.linkedin.com/in/mohamed-rihan-k-...</td>\n",
       "      <td>{0: [{'c_title:': 'Java Developer'}, {'c_durat...</td>\n",
       "      <td>\\nTechnical Expertise \\n• Operating Systems: W...</td>\n",
       "    </tr>\n",
       "    <tr>\n",
       "      <th>1</th>\n",
       "      <td>Software Developer</td>\n",
       "      <td>Bengaluru</td>\n",
       "      <td>Karnataka</td>\n",
       "      <td>Working as Software Developer at IngroInfo Sof...</td>\n",
       "      <td>{0: [{'wtitle:': 'JAVA DEVELOPER'}, {'wcompany...</td>\n",
       "      <td>{0: [{'e_title:': 'MCA in Master of Computer A...</td>\n",
       "      <td>['Programming Languages: Core Java', ' J2EE \\n...</td>\n",
       "      <td>['http://github.com/NK-PATEL/Train_Project', '...</td>\n",
       "      <td>{}</td>\n",
       "      <td>NONE</td>\n",
       "    </tr>\n",
       "    <tr>\n",
       "      <th>2</th>\n",
       "      <td>Java developer</td>\n",
       "      <td>Pune</td>\n",
       "      <td>Maharashtra</td>\n",
       "      <td>Looking for a challenging career which demands...</td>\n",
       "      <td>{0: [{'wtitle:': 'Java Developer'}, {'wcompany...</td>\n",
       "      <td>{0: [{'e_title:': \"Bachelor's in Electrical En...</td>\n",
       "      <td>['ECLIPSE (1 year)', ' HIBERNATE', ' SPRING (L...</td>\n",
       "      <td>[]</td>\n",
       "      <td>{}</td>\n",
       "      <td>\\nTECHNICAL SKILLS \\n \\nFrameworks: Spring, Sp...</td>\n",
       "    </tr>\n",
       "    <tr>\n",
       "      <th>3</th>\n",
       "      <td>Seeking innovative and challenging career assi...</td>\n",
       "      <td>Pune</td>\n",
       "      <td>Maharashtra</td>\n",
       "      <td>NONE</td>\n",
       "      <td>{0: [{'wtitle:': 'Java Developer'}, {'wcompany...</td>\n",
       "      <td>{0: [{'e_title:': 'BE in Computer'}, {'e_schoo...</td>\n",
       "      <td>['GIT', ' Angular 7', ' MAVEN', ' Java', ' Jen...</td>\n",
       "      <td>[]</td>\n",
       "      <td>{}</td>\n",
       "      <td>NONE</td>\n",
       "    </tr>\n",
       "    <tr>\n",
       "      <th>4</th>\n",
       "      <td>NONE</td>\n",
       "      <td>Pune</td>\n",
       "      <td>Maharashtra</td>\n",
       "      <td>NONE</td>\n",
       "      <td>{0: [{'wtitle:': 'Java Developer'}, {'wcompany...</td>\n",
       "      <td>{0: [{'e_title:': 'Bachelor of Engineering in ...</td>\n",
       "      <td>['Project: HR Payroll Systems Role: Java Devel...</td>\n",
       "      <td>[]</td>\n",
       "      <td>{}</td>\n",
       "      <td>NONE</td>\n",
       "    </tr>\n",
       "  </tbody>\n",
       "</table>\n",
       "</div>"
      ],
      "text/plain": [
       "                                        Resume_title       City         State  \\\n",
       "0                                     Java Developer      Tirur        Kerala   \n",
       "1                                 Software Developer  Bengaluru     Karnataka   \n",
       "2                                     Java developer       Pune   Maharashtra   \n",
       "3  Seeking innovative and challenging career assi...       Pune   Maharashtra   \n",
       "4                                               NONE       Pune   Maharashtra   \n",
       "\n",
       "                                         Description  \\\n",
       "0  To prove myself dedicated, worthy and energeti...   \n",
       "1  Working as Software Developer at IngroInfo Sof...   \n",
       "2  Looking for a challenging career which demands...   \n",
       "3                                               NONE   \n",
       "4                                               NONE   \n",
       "\n",
       "                                    work_experiences  \\\n",
       "0  {0: [{'wtitle:': 'Java Developer'}, {'wcompany...   \n",
       "1  {0: [{'wtitle:': 'JAVA DEVELOPER'}, {'wcompany...   \n",
       "2  {0: [{'wtitle:': 'Java Developer'}, {'wcompany...   \n",
       "3  {0: [{'wtitle:': 'Java Developer'}, {'wcompany...   \n",
       "4  {0: [{'wtitle:': 'Java Developer'}, {'wcompany...   \n",
       "\n",
       "                                          Educations  \\\n",
       "0  {0: [{'e_title:': \"Bachelor's in Bachelor of C...   \n",
       "1  {0: [{'e_title:': 'MCA in Master of Computer A...   \n",
       "2  {0: [{'e_title:': \"Bachelor's in Electrical En...   \n",
       "3  {0: [{'e_title:': 'BE in Computer'}, {'e_schoo...   \n",
       "4  {0: [{'e_title:': 'Bachelor of Engineering in ...   \n",
       "\n",
       "                                              Skills  \\\n",
       "0  ['Java (Less than 1 year)', ' Jsp (Less than 1...   \n",
       "1  ['Programming Languages: Core Java', ' J2EE \\n...   \n",
       "2  ['ECLIPSE (1 year)', ' HIBERNATE', ' SPRING (L...   \n",
       "3  ['GIT', ' Angular 7', ' MAVEN', ' Java', ' Jen...   \n",
       "4  ['Project: HR Payroll Systems Role: Java Devel...   \n",
       "\n",
       "                                               Links  \\\n",
       "0  ['https://www.linkedin.com/in/mohamed-rihan-k-...   \n",
       "1  ['http://github.com/NK-PATEL/Train_Project', '...   \n",
       "2                                                 []   \n",
       "3                                                 []   \n",
       "4                                                 []   \n",
       "\n",
       "                                        Certificates  \\\n",
       "0  {0: [{'c_title:': 'Java Developer'}, {'c_durat...   \n",
       "1                                                 {}   \n",
       "2                                                 {}   \n",
       "3                                                 {}   \n",
       "4                                                 {}   \n",
       "\n",
       "                              Additional Information  \n",
       "0  \\nTechnical Expertise \\n• Operating Systems: W...  \n",
       "1                                               NONE  \n",
       "2  \\nTECHNICAL SKILLS \\n \\nFrameworks: Spring, Sp...  \n",
       "3                                               NONE  \n",
       "4                                               NONE  "
      ]
     },
     "execution_count": 42,
     "metadata": {},
     "output_type": "execute_result"
    }
   ],
   "source": [
    "resume.head(5)"
   ]
  },
  {
   "cell_type": "markdown",
   "metadata": {},
   "source": [
    "## With initial looks of data, found that few columns are not just int / strings and might need special attention :\n",
    "\n",
    "**1.  Nested JSONs in columns :**\n",
    "        * Work Experience\n",
    "        * Education\n",
    "        * Certificates\n",
    "\n",
    "**2.  List in columns :**\n",
    "        * Skills\n",
    "        * Links"
   ]
  },
  {
   "cell_type": "markdown",
   "metadata": {},
   "source": [
    "# Step 2. Data Wrangling and Feature Engineering\n",
    "\n",
    "\n",
    "I will be working on each column to understand data better."
   ]
  },
  {
   "cell_type": "markdown",
   "metadata": {},
   "source": [
    "#########################################################################################################\n",
    "## a. Work experiences\n",
    "\n",
    "**1. Read and Capture data into different variables (if needed for matching)**\n",
    "\n",
    "\n",
    "**2. Generate new column- \"total work experience\"**\n",
    "#########################################################################################################"
   ]
  },
  {
   "cell_type": "code",
   "execution_count": 43,
   "metadata": {},
   "outputs": [
    {
     "name": "stdout",
     "output_type": "stream",
     "text": [
      "<class 'pandas.core.frame.DataFrame'>\n",
      "RangeIndex: 14796 entries, 0 to 14795\n",
      "Data columns (total 10 columns):\n",
      " #   Column                  Non-Null Count  Dtype \n",
      "---  ------                  --------------  ----- \n",
      " 0   Resume_title            14796 non-null  object\n",
      " 1   City                    14796 non-null  object\n",
      " 2   State                   14796 non-null  object\n",
      " 3   Description             14796 non-null  object\n",
      " 4   work_experiences        14796 non-null  object\n",
      " 5   Educations              14796 non-null  object\n",
      " 6   Skills                  14796 non-null  object\n",
      " 7   Links                   14796 non-null  object\n",
      " 8   Certificates            14796 non-null  object\n",
      " 9   Additional Information  14796 non-null  object\n",
      "dtypes: object(10)\n",
      "memory usage: 1.1+ MB\n"
     ]
    }
   ],
   "source": [
    "resume.info()"
   ]
  },
  {
   "cell_type": "code",
   "execution_count": 27,
   "metadata": {
    "scrolled": false
   },
   "outputs": [],
   "source": [
    "# Read each work experience\n",
    "for index, rows in resume.iterrows():\n",
    "    total_exp = 0 \n",
    "    #pick work experience column and read it as JSON \n",
    "    work = resume['work_experiences'][index]\n",
    "    try: result_work = eval(work)\n",
    "    except: continue\n",
    "    #print(f'resume  :  {index}')\n",
    "    \n",
    "# read each position, company,city, duration, desc from education in variables     \n",
    "# Capture total relevant experience via parsing duration and pulling out days words and finally convert them into years\n",
    "    \n",
    "    for i in result_work:\n",
    "        num_months=0\n",
    "        #print(f'my i is  {i}')\n",
    "        w_title= (result_work[i][0]['wtitle:'])\n",
    "        \n",
    "        w_title_n = (result_work[0][0]['wtitle:'])\n",
    "        #print(w_title)\n",
    "        \n",
    "        w_company= (result_work[i][1]['wcompany:'])\n",
    "        #print(w_company)        \n",
    "        \n",
    "        w_city= (result_work[i][2]['wcity:'])\n",
    "        #print(w_city)     \n",
    "        \n",
    "        w_state= (result_work[i][3]['wstate:'])\n",
    "        #print(w_state)\n",
    "        \n",
    "        w_duration= (result_work[i][4]['wduration:'])\n",
    "        #print(w_duration)       \n",
    "        duration = w_duration.split(\" \")\n",
    "        #print(f'len is {len(duration)}')\n",
    "        #parsing 'duration' column to calculate total experience by the nature of available data        \n",
    "        if (len(duration)==4 and duration[3].upper() == 'PRESENT'):\n",
    "            end_date = date.today() # if 'present - take system date'\n",
    "            start_month = strptime(duration[0],'%B').tm_mon\n",
    "            start_date = date(int(duration[1]),start_month,1)\n",
    "            #print(start_date ,'  ', end_date )\n",
    "            # number of months in each job\n",
    "            num_months = (end_date.year - start_date.year) * 12 + (end_date.month - start_date.month)\n",
    "            #print('total months : ',num_months)\n",
    "        elif (len(duration)==5): \n",
    "            start_month = strptime(duration[0],'%B').tm_mon\n",
    "            start_date = date(int(duration[1]),start_month,1)\n",
    "            #print(start_date)\n",
    "            end_month = strptime(duration[3],'%B').tm_mon\n",
    "            end_date = date(int(duration[4]),end_month,1)\n",
    "            #print(start_date ,'  ', end_date )\n",
    "            num_months = (end_date.year - start_date.year) * 12 + (end_date.month - start_date.month)\n",
    "            #print('total months : ',num_months)            \n",
    "        #total years of experience\n",
    "        total_exp = total_exp + num_months\n",
    "        total_exp_yrs = total_exp/12\n",
    "        resume.loc[index,'total_experience']= total_exp_yrs \n",
    "        \n",
    "        w_descr= (result_work[i][5]['wdescr:'])\n",
    "\n"
   ]
  },
  {
   "cell_type": "code",
   "execution_count": 34,
   "metadata": {},
   "outputs": [],
   "source": [
    "resume['total_experience'] = resume['total_experience'].astype(int)"
   ]
  },
  {
   "cell_type": "code",
   "execution_count": 36,
   "metadata": {},
   "outputs": [],
   "source": [
    "#resume['total_experience'].value_counts()"
   ]
  },
  {
   "cell_type": "markdown",
   "metadata": {},
   "source": [
    "### As experience is too varied, I choose to bin experince in range (4 different ranges)\n",
    "\n",
    "### Binning total experience in experince range :\n",
    "\n",
    "* 0-1 years -0\n",
    "* 1-5 years -1\n",
    "* 5-10 years-2\n",
    "* 10+ years -3"
   ]
  },
  {
   "cell_type": "code",
   "execution_count": 37,
   "metadata": {},
   "outputs": [],
   "source": [
    "# adding experience range\n",
    "arr = np.array([0,2,6,11])\n",
    "resume['experience_range'] = arr.searchsorted(resume.total_experience, side='right') - 1"
   ]
  },
  {
   "cell_type": "code",
   "execution_count": 38,
   "metadata": {},
   "outputs": [
    {
     "data": {
      "text/plain": [
       "0    7404\n",
       "1    4455\n",
       "2    1470\n",
       "3    1099\n",
       "Name: experience_range, dtype: int64"
      ]
     },
     "execution_count": 38,
     "metadata": {},
     "output_type": "execute_result"
    }
   ],
   "source": [
    "resume['experience_range'].value_counts()"
   ]
  },
  {
   "cell_type": "code",
   "execution_count": 46,
   "metadata": {},
   "outputs": [
    {
     "name": "stdout",
     "output_type": "stream",
     "text": [
      "<class 'pandas.core.frame.DataFrame'>\n",
      "RangeIndex: 14796 entries, 0 to 14795\n",
      "Data columns (total 11 columns):\n",
      " #   Column                  Non-Null Count  Dtype  \n",
      "---  ------                  --------------  -----  \n",
      " 0   Resume_title            14796 non-null  object \n",
      " 1   City                    14796 non-null  object \n",
      " 2   State                   14796 non-null  object \n",
      " 3   Description             14796 non-null  object \n",
      " 4   work_experiences        14796 non-null  object \n",
      " 5   Educations              14796 non-null  object \n",
      " 6   Skills                  14796 non-null  object \n",
      " 7   Links                   14796 non-null  object \n",
      " 8   Certificates            14796 non-null  object \n",
      " 9   Additional Information  14796 non-null  object \n",
      " 10  total_experience        14428 non-null  float64\n",
      "dtypes: float64(1), object(10)\n",
      "memory usage: 1.2+ MB\n"
     ]
    }
   ],
   "source": [
    "resume.info()"
   ]
  },
  {
   "cell_type": "markdown",
   "metadata": {},
   "source": [
    "### As seen, there are some nulls in total experience, I will take a closer look to decide how to handle the  same."
   ]
  },
  {
   "cell_type": "code",
   "execution_count": 47,
   "metadata": {},
   "outputs": [
    {
     "data": {
      "text/html": [
       "<div>\n",
       "<style scoped>\n",
       "    .dataframe tbody tr th:only-of-type {\n",
       "        vertical-align: middle;\n",
       "    }\n",
       "\n",
       "    .dataframe tbody tr th {\n",
       "        vertical-align: top;\n",
       "    }\n",
       "\n",
       "    .dataframe thead th {\n",
       "        text-align: right;\n",
       "    }\n",
       "</style>\n",
       "<table border=\"1\" class=\"dataframe\">\n",
       "  <thead>\n",
       "    <tr style=\"text-align: right;\">\n",
       "      <th></th>\n",
       "      <th>Resume_title</th>\n",
       "      <th>City</th>\n",
       "      <th>State</th>\n",
       "      <th>Description</th>\n",
       "      <th>work_experiences</th>\n",
       "      <th>Educations</th>\n",
       "      <th>Skills</th>\n",
       "      <th>Links</th>\n",
       "      <th>Certificates</th>\n",
       "      <th>Additional Information</th>\n",
       "      <th>total_experience</th>\n",
       "    </tr>\n",
       "  </thead>\n",
       "  <tbody>\n",
       "    <tr>\n",
       "      <th>87</th>\n",
       "      <td>NONE</td>\n",
       "      <td>NONE</td>\n",
       "      <td>NONE</td>\n",
       "      <td>NONE</td>\n",
       "      <td>{}</td>\n",
       "      <td>{}</td>\n",
       "      <td>['NONE']</td>\n",
       "      <td>[]</td>\n",
       "      <td>{}</td>\n",
       "      <td>NONE</td>\n",
       "      <td>NaN</td>\n",
       "    </tr>\n",
       "    <tr>\n",
       "      <th>88</th>\n",
       "      <td>NONE</td>\n",
       "      <td>NONE</td>\n",
       "      <td>NONE</td>\n",
       "      <td>NONE</td>\n",
       "      <td>{}</td>\n",
       "      <td>{}</td>\n",
       "      <td>['NONE']</td>\n",
       "      <td>[]</td>\n",
       "      <td>{}</td>\n",
       "      <td>NONE</td>\n",
       "      <td>NaN</td>\n",
       "    </tr>\n",
       "    <tr>\n",
       "      <th>94</th>\n",
       "      <td>NONE</td>\n",
       "      <td>NONE</td>\n",
       "      <td>NONE</td>\n",
       "      <td>NONE</td>\n",
       "      <td>{}</td>\n",
       "      <td>{}</td>\n",
       "      <td>['NONE']</td>\n",
       "      <td>[]</td>\n",
       "      <td>{}</td>\n",
       "      <td>NONE</td>\n",
       "      <td>NaN</td>\n",
       "    </tr>\n",
       "    <tr>\n",
       "      <th>95</th>\n",
       "      <td>NONE</td>\n",
       "      <td>NONE</td>\n",
       "      <td>NONE</td>\n",
       "      <td>NONE</td>\n",
       "      <td>{}</td>\n",
       "      <td>{}</td>\n",
       "      <td>['NONE']</td>\n",
       "      <td>[]</td>\n",
       "      <td>{}</td>\n",
       "      <td>NONE</td>\n",
       "      <td>NaN</td>\n",
       "    </tr>\n",
       "    <tr>\n",
       "      <th>165</th>\n",
       "      <td>NONE</td>\n",
       "      <td>NONE</td>\n",
       "      <td>NONE</td>\n",
       "      <td>• Interested in the role of a Software Enginee...</td>\n",
       "      <td>{}</td>\n",
       "      <td>{0: [{'e_title:': 'NONE'}, {'e_schoolname:': '...</td>\n",
       "      <td>['NONE']</td>\n",
       "      <td>[]</td>\n",
       "      <td>{}</td>\n",
       "      <td>NONE</td>\n",
       "      <td>NaN</td>\n",
       "    </tr>\n",
       "    <tr>\n",
       "      <th>...</th>\n",
       "      <td>...</td>\n",
       "      <td>...</td>\n",
       "      <td>...</td>\n",
       "      <td>...</td>\n",
       "      <td>...</td>\n",
       "      <td>...</td>\n",
       "      <td>...</td>\n",
       "      <td>...</td>\n",
       "      <td>...</td>\n",
       "      <td>...</td>\n",
       "      <td>...</td>\n",
       "    </tr>\n",
       "    <tr>\n",
       "      <th>14139</th>\n",
       "      <td>NONE</td>\n",
       "      <td>NONE</td>\n",
       "      <td>NONE</td>\n",
       "      <td>NONE</td>\n",
       "      <td>{}</td>\n",
       "      <td>{}</td>\n",
       "      <td>['NONE']</td>\n",
       "      <td>[]</td>\n",
       "      <td>{}</td>\n",
       "      <td>NONE</td>\n",
       "      <td>NaN</td>\n",
       "    </tr>\n",
       "    <tr>\n",
       "      <th>14340</th>\n",
       "      <td>NONE</td>\n",
       "      <td>NONE</td>\n",
       "      <td>NONE</td>\n",
       "      <td>NONE</td>\n",
       "      <td>{}</td>\n",
       "      <td>{}</td>\n",
       "      <td>['NONE']</td>\n",
       "      <td>[]</td>\n",
       "      <td>{}</td>\n",
       "      <td>NONE</td>\n",
       "      <td>NaN</td>\n",
       "    </tr>\n",
       "    <tr>\n",
       "      <th>14341</th>\n",
       "      <td>NONE</td>\n",
       "      <td>NONE</td>\n",
       "      <td>NONE</td>\n",
       "      <td>NONE</td>\n",
       "      <td>{}</td>\n",
       "      <td>{}</td>\n",
       "      <td>['NONE']</td>\n",
       "      <td>[]</td>\n",
       "      <td>{}</td>\n",
       "      <td>NONE</td>\n",
       "      <td>NaN</td>\n",
       "    </tr>\n",
       "    <tr>\n",
       "      <th>14525</th>\n",
       "      <td>NONE</td>\n",
       "      <td>NONE</td>\n",
       "      <td>NONE</td>\n",
       "      <td>NONE</td>\n",
       "      <td>{}</td>\n",
       "      <td>{}</td>\n",
       "      <td>['NONE']</td>\n",
       "      <td>[]</td>\n",
       "      <td>{}</td>\n",
       "      <td>NONE</td>\n",
       "      <td>NaN</td>\n",
       "    </tr>\n",
       "    <tr>\n",
       "      <th>14784</th>\n",
       "      <td>python/Data science</td>\n",
       "      <td>Bangalore</td>\n",
       "      <td>Karnataka</td>\n",
       "      <td>Cloud computing opens a new era in IT as it ca...</td>\n",
       "      <td>{}</td>\n",
       "      <td>{0: [{'e_title:': 'BE(CSE) in computer science...</td>\n",
       "      <td>['SQL', 'core java']</td>\n",
       "      <td>[]</td>\n",
       "      <td>{}</td>\n",
       "      <td>\\nData Science with python</td>\n",
       "      <td>NaN</td>\n",
       "    </tr>\n",
       "  </tbody>\n",
       "</table>\n",
       "<p>368 rows × 11 columns</p>\n",
       "</div>"
      ],
      "text/plain": [
       "              Resume_title       City       State  \\\n",
       "87                    NONE       NONE        NONE   \n",
       "88                    NONE       NONE        NONE   \n",
       "94                    NONE       NONE        NONE   \n",
       "95                    NONE       NONE        NONE   \n",
       "165                   NONE       NONE        NONE   \n",
       "...                    ...        ...         ...   \n",
       "14139                 NONE       NONE        NONE   \n",
       "14340                 NONE       NONE        NONE   \n",
       "14341                 NONE       NONE        NONE   \n",
       "14525                 NONE       NONE        NONE   \n",
       "14784  python/Data science  Bangalore   Karnataka   \n",
       "\n",
       "                                             Description work_experiences  \\\n",
       "87                                                  NONE               {}   \n",
       "88                                                  NONE               {}   \n",
       "94                                                  NONE               {}   \n",
       "95                                                  NONE               {}   \n",
       "165    • Interested in the role of a Software Enginee...               {}   \n",
       "...                                                  ...              ...   \n",
       "14139                                               NONE               {}   \n",
       "14340                                               NONE               {}   \n",
       "14341                                               NONE               {}   \n",
       "14525                                               NONE               {}   \n",
       "14784  Cloud computing opens a new era in IT as it ca...               {}   \n",
       "\n",
       "                                              Educations  \\\n",
       "87                                                    {}   \n",
       "88                                                    {}   \n",
       "94                                                    {}   \n",
       "95                                                    {}   \n",
       "165    {0: [{'e_title:': 'NONE'}, {'e_schoolname:': '...   \n",
       "...                                                  ...   \n",
       "14139                                                 {}   \n",
       "14340                                                 {}   \n",
       "14341                                                 {}   \n",
       "14525                                                 {}   \n",
       "14784  {0: [{'e_title:': 'BE(CSE) in computer science...   \n",
       "\n",
       "                     Skills Links Certificates      Additional Information  \\\n",
       "87                 ['NONE']    []           {}                        NONE   \n",
       "88                 ['NONE']    []           {}                        NONE   \n",
       "94                 ['NONE']    []           {}                        NONE   \n",
       "95                 ['NONE']    []           {}                        NONE   \n",
       "165                ['NONE']    []           {}                        NONE   \n",
       "...                     ...   ...          ...                         ...   \n",
       "14139              ['NONE']    []           {}                        NONE   \n",
       "14340              ['NONE']    []           {}                        NONE   \n",
       "14341              ['NONE']    []           {}                        NONE   \n",
       "14525              ['NONE']    []           {}                        NONE   \n",
       "14784  ['SQL', 'core java']    []           {}  \\nData Science with python   \n",
       "\n",
       "       total_experience  \n",
       "87                  NaN  \n",
       "88                  NaN  \n",
       "94                  NaN  \n",
       "95                  NaN  \n",
       "165                 NaN  \n",
       "...                 ...  \n",
       "14139               NaN  \n",
       "14340               NaN  \n",
       "14341               NaN  \n",
       "14525               NaN  \n",
       "14784               NaN  \n",
       "\n",
       "[368 rows x 11 columns]"
      ]
     },
     "execution_count": 47,
     "metadata": {},
     "output_type": "execute_result"
    }
   ],
   "source": [
    "#checking all nulls in total_experience\n",
    "resume[resume['total_experience'].isna()]"
   ]
  },
  {
   "cell_type": "markdown",
   "metadata": {},
   "source": [
    "### Checking issue with total experience as null. It was found that that these rows are not having null values but instead 'none' string. So need to drop them."
   ]
  },
  {
   "cell_type": "code",
   "execution_count": 48,
   "metadata": {},
   "outputs": [],
   "source": [
    "# to visually see the data with null total experience, I found most coluns are null so i can drop it all\n",
    "resume[resume['total_experience'].isna()].to_csv('total_nones.csv', index=False)"
   ]
  },
  {
   "cell_type": "code",
   "execution_count": 49,
   "metadata": {},
   "outputs": [],
   "source": [
    "resume.drop(resume[resume['total_experience'].isna()].index, axis=0, inplace=True)"
   ]
  },
  {
   "cell_type": "code",
   "execution_count": 50,
   "metadata": {},
   "outputs": [
    {
     "name": "stdout",
     "output_type": "stream",
     "text": [
      "<class 'pandas.core.frame.DataFrame'>\n",
      "Int64Index: 14428 entries, 0 to 14795\n",
      "Data columns (total 11 columns):\n",
      " #   Column                  Non-Null Count  Dtype  \n",
      "---  ------                  --------------  -----  \n",
      " 0   Resume_title            14428 non-null  object \n",
      " 1   City                    14428 non-null  object \n",
      " 2   State                   14428 non-null  object \n",
      " 3   Description             14428 non-null  object \n",
      " 4   work_experiences        14428 non-null  object \n",
      " 5   Educations              14428 non-null  object \n",
      " 6   Skills                  14428 non-null  object \n",
      " 7   Links                   14428 non-null  object \n",
      " 8   Certificates            14428 non-null  object \n",
      " 9   Additional Information  14428 non-null  object \n",
      " 10  total_experience        14428 non-null  float64\n",
      "dtypes: float64(1), object(10)\n",
      "memory usage: 1.3+ MB\n"
     ]
    }
   ],
   "source": [
    "resume.info()"
   ]
  },
  {
   "cell_type": "markdown",
   "metadata": {},
   "source": [
    "######################################################################################\n",
    "## b. Education column \n",
    "\n",
    "**1. To parse education column and generate columns:**\n",
    "* Doctrate \n",
    "* Post grads \n",
    "* Grads\n",
    "* Others\n",
    "\n",
    "\n",
    "**2. To generate specializations columns**\n",
    "######################################################################################"
   ]
  },
  {
   "cell_type": "code",
   "execution_count": 85,
   "metadata": {},
   "outputs": [],
   "source": [
    "#addinting new columns for doc/grad/pg\n",
    "# read each row\n",
    "for index, rows in resume.iterrows():\n",
    "#pick education col and read it as JSON \n",
    "    edu = resume['Educations'][index]\n",
    "    result_edu = eval(edu)\n",
    "    \n",
    "    if edu == '{}': #this code is added as some education columns are found blank - '{}' - as edu_unknown count != row count\n",
    "        #print(edu)\n",
    "        resume.loc[index,'edu_unknown'] = 1\n",
    "        resume.loc[index,'Is_grad'] = 0\n",
    "        resume.loc[index,'Is_postgrad'] = 0\n",
    "        resume.loc[index,'Is_doc'] = 0\n",
    "#print(edu)\n",
    "    #print(f'resume  :  {index}')\n",
    "    #read each title from education JSON to capture Doctrate/ post grads/ grads\n",
    "    for i in result_edu:\n",
    "        #print(f'my i is  {i}')\n",
    "        edu_title= (result_edu[i][0]['e_title:']).lower()\n",
    "        #print(edu_title)\n",
    "        #for ug1 in ug:       \n",
    "        if re.search('^ph.d', edu_title):\n",
    "            #print(\"Doctrate\")\n",
    "            resume.loc[index,'Is_doc'] = 1\n",
    "            resume.loc[index,'Is_postgrad'] = 1\n",
    "            resume.loc[index,'Is_grad'] = 1\n",
    "            resume.loc[index,'edu_unknown'] = 0\n",
    "            break        \n",
    "        elif re.search(('^m|^pg|^post '), edu_title):\n",
    "            #print(\"Post-grad\")\n",
    "            resume.loc[index,'Is_doc'] = 0\n",
    "            resume.loc[index,'Is_postgrad'] = 1\n",
    "            resume.loc[index,'Is_grad'] = 1\n",
    "            resume.loc[index,'edu_unknown'] = 0\n",
    "            break\n",
    "        elif re.search('^b', edu_title):\n",
    "            #print(\"Graduate\")\n",
    "            resume.loc[index,'Is_grad'] = 1\n",
    "            resume.loc[index,'Is_postgrad'] = 0\n",
    "            resume.loc[index,'Is_doc'] = 0\n",
    "            resume.loc[index,'edu_unknown'] = 0\n",
    "            break\n",
    "        else:\n",
    "            resume.loc[index,'edu_unknown'] = 1\n",
    "            resume.loc[index,'Is_grad'] = 0\n",
    "            resume.loc[index,'Is_postgrad'] = 0\n",
    "            resume.loc[index,'Is_doc'] = 0\n",
    "        edu_school = (result_edu[i][1]['e_schoolname:'])\n",
    "        edu_city = (result_edu[i][2]['e_city:'])\n",
    "        edu_state = (result_edu[i][3]['e_state:'])\n",
    "        edu_duration= (result_edu[i][4]['e_duration:'])"
   ]
  },
  {
   "cell_type": "code",
   "execution_count": 78,
   "metadata": {},
   "outputs": [],
   "source": [
    "#resume[resume['edu_unknown'].isna()]"
   ]
  },
  {
   "cell_type": "code",
   "execution_count": 88,
   "metadata": {},
   "outputs": [],
   "source": [
    "#removing nulls, for no degree setting 'edu_unknown' as 1\n",
    "resume['edu_unknown'].fillna(1, inplace = True) \n",
    "resume['Is_grad'].fillna(0, inplace = True) \n",
    "resume['Is_postgrad'].fillna(0, inplace = True) \n",
    "resume['Is_doc'].fillna(0, inplace = True) \n",
    "\n",
    "#converting to int\n",
    "resume['Is_doc'] = resume['Is_doc'].astype('int')\n",
    "resume['Is_postgrad'] = resume['Is_postgrad'].astype('int')\n",
    "resume['Is_grad']= resume['Is_grad'].astype('int')\n",
    "resume['edu_unknown']= resume['edu_unknown'].astype('int')"
   ]
  },
  {
   "cell_type": "code",
   "execution_count": null,
   "metadata": {},
   "outputs": [],
   "source": [
    "# Column names should match the columns in job dataset\n",
    "resume.rename(columns={'Is_grad': 'is_grad','Is_postgrad': 'is_postgrad','Is_doc': 'is_doc'}, inplace=True) "
   ]
  },
  {
   "cell_type": "markdown",
   "metadata": {},
   "source": [
    "### Parsing education to find and add specialization \n",
    "\n",
    "**For the purpose of making it simple, I choose to have the following specialiations :**\n",
    "* Comuter_Eng - that have specialization in computers or any engineering\n",
    "* Finance\n",
    "* HR\n",
    "* AI_Stats - any thing related to data science\n",
    "* MBA - Any business masters\n",
    "* others\n"
   ]
  },
  {
   "cell_type": "code",
   "execution_count": 89,
   "metadata": {},
   "outputs": [],
   "source": [
    "#adding Specialization \n",
    "# read each row\n",
    "for index, rows in resume.iterrows():\n",
    "    #pick education col and read it as JSON \n",
    "    edu = resume['Educations'][index]\n",
    "    if edu == '{}': #this code is added as some education columns are found blank - '{}' - as edu_unknown count != row count\n",
    "        resume.loc[index,'Computer_Eng'] = 0\n",
    "        resume.loc[index,'Finance'] = 0\n",
    "        resume.loc[index,'HR'] = 0\n",
    "        resume.loc[index,'AI_stats'] = 0\n",
    "        resume.loc[index,'MBA'] = 0\n",
    "        resume.loc[index,'Other_specialization'] = 1    \n",
    "    try: result_edu = eval(edu)\n",
    "    except: continue\n",
    "#print(edu)\n",
    "    #print(f'resume  :  {index}')\n",
    "    #read each title from education JSON to capture Doctrate/ post grads/ grads\n",
    "    for i in result_edu:\n",
    "        #print(f'my i is  {i}')\n",
    "        edu_title= (result_edu[i][0]['e_title:'])\n",
    "        edu_title=edu_title.lower()\n",
    "        #print(edu_title)       \n",
    "        if re.search('computer|information|tech|b.e|software|b.c.a|mca|bca|m.c.a|cse|electronics|c.s.e|engineering|be', edu_title):\n",
    "            #print(\"Doctrate\")\n",
    "            resume.loc[index,'Computer_Eng'] = 1\n",
    "            resume.loc[index,'Finance'] = 0\n",
    "            resume.loc[index,'HR'] = 0\n",
    "            resume.loc[index,'AI_stats'] = 0\n",
    "            resume.loc[index,'MBA'] = 0\n",
    "            resume.loc[index,'Other_specialization'] = 0\n",
    "            break        \n",
    "        elif re.search('finance|commerce|account|ca|.com$', edu_title):\n",
    "            #print(\"Post-grad\")\n",
    "            resume.loc[index,'Computer_Eng'] = 0\n",
    "            resume.loc[index,'Finance'] = 1\n",
    "            resume.loc[index,'HR'] = 0\n",
    "            resume.loc[index,'AI_stats'] = 0\n",
    "            resume.loc[index,'MBA'] = 0\n",
    "            resume.loc[index,'Other_specialization'] = 0\n",
    "            break\n",
    "        elif re.search('human|h.r|hr', edu_title):\n",
    "            #print(\"Graduate\")\n",
    "            resume.loc[index,'Computer_Eng'] = 0\n",
    "            resume.loc[index,'Finance'] = 0\n",
    "            resume.loc[index,'HR'] = 1\n",
    "            resume.loc[index,'AI_stats'] = 0\n",
    "            resume.loc[index,'MBA'] = 0\n",
    "            resume.loc[index,'Other_specialization'] = 0\n",
    "            break\n",
    "        elif re.search('mba|m.b.a|pgdm|business', edu_title):\n",
    "            #print(\"Graduate\")\n",
    "            resume.loc[index,'Computer_Eng'] = 0\n",
    "            resume.loc[index,'Finance'] = 0\n",
    "            resume.loc[index,'HR'] = 0\n",
    "            resume.loc[index,'AI_stats'] = 0\n",
    "            resume.loc[index,'MBA'] = 1\n",
    "            resume.loc[index,'Other_specialization'] = 0            \n",
    "            break\n",
    "        elif re.search('math|stats|ai|intelligence|big|cloud|data|machine|analytics', edu_title):\n",
    "            #print(\"Graduate\")\n",
    "            resume.loc[index,'Computer_Eng'] = 0\n",
    "            resume.loc[index,'Finance'] = 0\n",
    "            resume.loc[index,'HR'] = 0\n",
    "            resume.loc[index,'AI_stats'] = 1\n",
    "            resume.loc[index,'MBA'] = 0\n",
    "            resume.loc[index,'Other_specialization'] = 0\n",
    "            break\n",
    "        else:\n",
    "            resume.loc[index,'Other_specialization'] = 1\n",
    "            resume.loc[index,'Computer_Eng'] = 0\n",
    "            resume.loc[index,'Finance'] = 0\n",
    "            resume.loc[index,'HR'] = 0\n",
    "            resume.loc[index,'AI_stats'] = 0\n",
    "            resume.loc[index,'MBA'] = 0"
   ]
  },
  {
   "cell_type": "code",
   "execution_count": 90,
   "metadata": {},
   "outputs": [
    {
     "name": "stdout",
     "output_type": "stream",
     "text": [
      "<class 'pandas.core.frame.DataFrame'>\n",
      "Int64Index: 14428 entries, 0 to 14795\n",
      "Data columns (total 21 columns):\n",
      " #   Column                  Non-Null Count  Dtype  \n",
      "---  ------                  --------------  -----  \n",
      " 0   Resume_title            14428 non-null  object \n",
      " 1   City                    14428 non-null  object \n",
      " 2   State                   14428 non-null  object \n",
      " 3   Description             14428 non-null  object \n",
      " 4   work_experiences        14428 non-null  object \n",
      " 5   Educations              14428 non-null  object \n",
      " 6   Skills                  14428 non-null  object \n",
      " 7   Links                   14428 non-null  object \n",
      " 8   Certificates            14428 non-null  object \n",
      " 9   Additional Information  14428 non-null  object \n",
      " 10  total_experience        14428 non-null  float64\n",
      " 11  Is_grad                 14428 non-null  int32  \n",
      " 12  Is_postgrad             14428 non-null  int32  \n",
      " 13  Is_doc                  14428 non-null  int32  \n",
      " 14  edu_unknown             14428 non-null  int32  \n",
      " 15  Computer_Eng            14428 non-null  float64\n",
      " 16  Finance                 14428 non-null  float64\n",
      " 17  HR                      14428 non-null  float64\n",
      " 18  AI_stats                14428 non-null  float64\n",
      " 19  MBA                     14428 non-null  float64\n",
      " 20  Other_specialization    14428 non-null  float64\n",
      "dtypes: float64(7), int32(4), object(10)\n",
      "memory usage: 2.8+ MB\n"
     ]
    }
   ],
   "source": [
    "resume.info()"
   ]
  },
  {
   "cell_type": "code",
   "execution_count": 92,
   "metadata": {},
   "outputs": [],
   "source": [
    "#converting specializations to int\n",
    "resume['Computer_Eng']=resume['Computer_Eng'].astype('int')\n",
    "resume['Finance']=resume['Finance'].astype('int')\n",
    "resume['HR']=resume['HR'].astype('int')\n",
    "resume['AI_stats']=resume['AI_stats'].astype('int')\n",
    "resume['MBA']=resume['MBA'].astype('int')\n",
    "resume['Other_specialization']=resume['Other_specialization'].astype('int')"
   ]
  },
  {
   "cell_type": "code",
   "execution_count": null,
   "metadata": {},
   "outputs": [],
   "source": [
    "#removing nulls, for no specialization setting 'Other_specialization' as 1\n",
    "resume['Other_specialization'].fillna(1, inplace = True) \n",
    "resume['Computer_Eng'].fillna(0, inplace = True) \n",
    "resume['Finance'].fillna(0, inplace = True) \n",
    "resume['HR'].fillna(0, inplace = True) \n",
    "resume['AI_stats'].fillna(0, inplace = True) \n",
    "resume['MBA'].fillna(0, inplace = True) \n"
   ]
  },
  {
   "cell_type": "code",
   "execution_count": null,
   "metadata": {},
   "outputs": [],
   "source": [
    "# resume[resume['Others'].isna()]"
   ]
  },
  {
   "cell_type": "code",
   "execution_count": 93,
   "metadata": {},
   "outputs": [],
   "source": [
    "resume_temp1 = resume.copy()"
   ]
  },
  {
   "cell_type": "code",
   "execution_count": 94,
   "metadata": {},
   "outputs": [],
   "source": [
    "resume_temp1.to_csv('resume_with_total_exp_education.csv', index=False)"
   ]
  },
  {
   "cell_type": "markdown",
   "metadata": {},
   "source": [
    "###############################################################################\n",
    "## c. Resume Title Column \n",
    "\n",
    "This column is very important to any resume. On analysis, I find that there are lot of similar titles that appeared differently in this column like :\n",
    "* Java developer\n",
    "* java dev\n",
    "###############################################################################"
   ]
  },
  {
   "cell_type": "code",
   "execution_count": 246,
   "metadata": {},
   "outputs": [],
   "source": [
    "#resume_temp1 = resume.copy() - saving data worked time to time"
   ]
  },
  {
   "cell_type": "code",
   "execution_count": 247,
   "metadata": {},
   "outputs": [],
   "source": [
    "# lowering all titles\n",
    "resume['Resume_title'] = resume['Resume_title'].str.lower()"
   ]
  },
  {
   "cell_type": "code",
   "execution_count": 248,
   "metadata": {},
   "outputs": [
    {
     "data": {
      "text/plain": [
       "3200"
      ]
     },
     "execution_count": 248,
     "metadata": {},
     "output_type": "execute_result"
    }
   ],
   "source": [
    "#finding unique values\n",
    "resume['Resume_title'].nunique()"
   ]
  },
  {
   "cell_type": "code",
   "execution_count": 249,
   "metadata": {},
   "outputs": [
    {
     "data": {
      "text/plain": [
       "none                                             7674\n",
       "php developer                                     379\n",
       "software developer                                261\n",
       "python developer                                  207\n",
       "web developer                                     176\n",
       "                                                 ... \n",
       "marketing, aimla - pgpm                             1\n",
       "marketing manager                                   1\n",
       "nodejs developer with 1+ years of experience.       1\n",
       "web and php developer                               1\n",
       "python,java, javascript                             1\n",
       "Name: Resume_title, Length: 3200, dtype: int64"
      ]
     },
     "execution_count": 249,
     "metadata": {},
     "output_type": "execute_result"
    }
   ],
   "source": [
    "#checking value counts for each unique title\n",
    "resume['Resume_title'].value_counts()"
   ]
  },
  {
   "cell_type": "markdown",
   "metadata": {},
   "source": [
    "### I see \"None\" in title - that implies nothing so decided : to get latest title from Work Experience"
   ]
  },
  {
   "cell_type": "code",
   "execution_count": 250,
   "metadata": {},
   "outputs": [],
   "source": [
    "# read each work experience\n",
    "for index, rows in resume.iterrows():\n",
    "    #pick work experience col and read it as JSON \n",
    "    work = resume['work_experiences'][index]\n",
    "    try: result_work = eval(work)\n",
    "    except: continue\n",
    "    #print(f'resume  :  {index}')\n",
    "    #read first position ti fill in resume title \n",
    "    \n",
    "    for i in result_work:\n",
    "        num_months=0\n",
    "        #print(f'my i is  {i}')\n",
    "        w_title= (result_work[i][0]['wtitle:']).lower()\n",
    "        w_title_n = (result_work[0][0]['wtitle:']).lower()\n",
    "\n",
    "        #print(w_descr)\n",
    "        if (resume.at[index,'Resume_title']=='none'):\n",
    "            resume.at[index,'Resume_title']=w_title_n"
   ]
  },
  {
   "cell_type": "code",
   "execution_count": 40,
   "metadata": {},
   "outputs": [],
   "source": [
    "# getting csv so if i have to re-run, i can start from here.\n",
    "# resume_latest = resume.copy()\n",
    "# resume_latest.to_csv('wip/latest_sorted_resume.csv', index=False)"
   ]
  },
  {
   "cell_type": "code",
   "execution_count": 84,
   "metadata": {},
   "outputs": [],
   "source": [
    "#resume = pd.read_csv('wip/latest_sorted_resume.csv')"
   ]
  },
  {
   "cell_type": "code",
   "execution_count": 85,
   "metadata": {},
   "outputs": [
    {
     "data": {
      "text/plain": [
       "php developer                                                                                                                                                                                                                                                 1217\n",
       "software developer                                                                                                                                                                                                                                             965\n",
       "java developer                                                                                                                                                                                                                                                 933\n",
       "python developer                                                                                                                                                                                                                                               757\n",
       "developer                                                                                                                                                                                                                                                      737\n",
       "                                                                                                                                                                                                                                                              ... \n",
       "quality assurance                                                                                                                                                                                                                                                1\n",
       "software developer - visteon corporation                                                                                                                                                                                                                         1\n",
       "data scientist | python developer | passionate coder.                                                                                                                                                                                                            1\n",
       "b.e.,diploma in advance computing form cdac acts,with 2+ years of experience in software development, maintenance and testing ,bearing domain knowledge of banking and payments.having hands on experience on thread,collections,oop ,spring and hibernate       1\n",
       "frontend developer - lucida technologies private limited                                                                                                                                                                                                         1\n",
       "Name: Resume_title, Length: 4513, dtype: int64"
      ]
     },
     "execution_count": 85,
     "metadata": {},
     "output_type": "execute_result"
    }
   ],
   "source": [
    "resume['Resume_title'].value_counts()"
   ]
  },
  {
   "cell_type": "code",
   "execution_count": 4,
   "metadata": {},
   "outputs": [
    {
     "data": {
      "text/plain": [
       "4513"
      ]
     },
     "execution_count": 4,
     "metadata": {},
     "output_type": "execute_result"
    }
   ],
   "source": [
    "resume['Resume_title'].nunique()"
   ]
  },
  {
   "cell_type": "code",
   "execution_count": 5,
   "metadata": {},
   "outputs": [],
   "source": [
    "resume.reset_index(inplace=True)"
   ]
  },
  {
   "cell_type": "code",
   "execution_count": 7,
   "metadata": {},
   "outputs": [],
   "source": [
    "resume['resume_id']= resume.index"
   ]
  },
  {
   "cell_type": "code",
   "execution_count": 9,
   "metadata": {},
   "outputs": [],
   "source": [
    "# resume_temp4 = resume.copy()\n",
    "# resume_temp4.to_csv('wip/resume_sorted4.csv', index=False)"
   ]
  },
  {
   "cell_type": "code",
   "execution_count": 41,
   "metadata": {
    "scrolled": true
   },
   "outputs": [
    {
     "name": "stdout",
     "output_type": "stream",
     "text": [
      "<class 'pandas.core.frame.DataFrame'>\n",
      "RangeIndex: 14428 entries, 0 to 14427\n",
      "Data columns (total 24 columns):\n",
      " #   Column                  Non-Null Count  Dtype \n",
      "---  ------                  --------------  ----- \n",
      " 0   index                   14428 non-null  int64 \n",
      " 1   Resume_title            14428 non-null  object\n",
      " 2   City                    14428 non-null  object\n",
      " 3   State                   14428 non-null  object\n",
      " 4   Description             14428 non-null  object\n",
      " 5   work_experiences        14428 non-null  object\n",
      " 6   Educations              14428 non-null  object\n",
      " 7   Skills                  14428 non-null  object\n",
      " 8   Links                   14428 non-null  object\n",
      " 9   Certificates            14428 non-null  object\n",
      " 10  Additional Information  14428 non-null  object\n",
      " 11  Is_grad                 14428 non-null  int64 \n",
      " 12  Is_postgrad             14428 non-null  int64 \n",
      " 13  Is_doc                  14428 non-null  int64 \n",
      " 14  edu_unknown             14428 non-null  int64 \n",
      " 15  Computer_Eng            14428 non-null  int64 \n",
      " 16  Finance                 14428 non-null  int64 \n",
      " 17  HR                      14428 non-null  int64 \n",
      " 18  AI_stats                14428 non-null  int64 \n",
      " 19  MBA                     14428 non-null  int64 \n",
      " 20  Other_specialization    14428 non-null  int64 \n",
      " 21  resume_id               14428 non-null  int64 \n",
      " 22  total_experience        14428 non-null  int32 \n",
      " 23  experience_range        14428 non-null  int64 \n",
      "dtypes: int32(1), int64(13), object(10)\n",
      "memory usage: 2.6+ MB\n"
     ]
    }
   ],
   "source": [
    "resume.info()"
   ]
  },
  {
   "cell_type": "markdown",
   "metadata": {},
   "source": [
    "##########################################################################################################################\n",
    "\n",
    "## d. City / State\n",
    "\n",
    "There were multiple discrepancies observed in State / City column.\n",
    "\n",
    "So I decided to:\n",
    "* get all cities\n",
    "* map to respective states\n",
    "* provide them uniques location code (to match with job location). \n",
    "**Challenge** - Location code should be same in job and resume dataset to make sense and match properly. \n",
    "\n",
    "\n",
    "## Created following datasets, and use the same for both datasets (resume and job)\n",
    "* **India-state-city dataset** used in jobs dataset. In resume, we are provided with States\n",
    "* **State - State-id dataset**\n",
    "\n",
    "\n",
    "\n",
    "########################################################################################################################"
   ]
  },
  {
   "cell_type": "code",
   "execution_count": 135,
   "metadata": {},
   "outputs": [],
   "source": [
    "# reading my sorted resume csv\n",
    "resume = pd.read_csv('wip/resume_sorted4.csv')"
   ]
  },
  {
   "cell_type": "code",
   "execution_count": 99,
   "metadata": {},
   "outputs": [
    {
     "data": {
      "text/plain": [
       "Bengaluru       2033\n",
       "Pune            1569\n",
       "NONE            1452\n",
       "Hyderabad       1342\n",
       "Mumbai           745\n",
       "                ... \n",
       "Mahuva             1\n",
       "Kothakota          1\n",
       "Kodungallur        1\n",
       "Karamadai          1\n",
       "West Chester       1\n",
       "Name: City, Length: 799, dtype: int64"
      ]
     },
     "execution_count": 99,
     "metadata": {},
     "output_type": "execute_result"
    }
   ],
   "source": [
    "resume['City'].value_counts()"
   ]
  },
  {
   "cell_type": "markdown",
   "metadata": {},
   "source": [
    "### Renaming State to location - to match with jobs. "
   ]
  },
  {
   "cell_type": "code",
   "execution_count": 138,
   "metadata": {},
   "outputs": [
    {
     "data": {
      "text/plain": [
       " maharashtra    3040\n",
       " karnataka      2162\n",
       "none            1452\n",
       " telangana      1369\n",
       " tamil nadu     1284\n",
       "                ... \n",
       " mn                1\n",
       " nc                1\n",
       " ga                1\n",
       "ar                 1\n",
       " pitampura         1\n",
       "Name: location, Length: 75, dtype: int64"
      ]
     },
     "execution_count": 138,
     "metadata": {},
     "output_type": "execute_result"
    }
   ],
   "source": [
    "resume.rename(columns={'State': 'location'}, inplace=True)\n",
    "resume['location'].value_counts()"
   ]
  },
  {
   "cell_type": "code",
   "execution_count": 139,
   "metadata": {},
   "outputs": [],
   "source": [
    "resume['location'] = resume['location'].str.strip()"
   ]
  },
  {
   "cell_type": "markdown",
   "metadata": {},
   "source": [
    "### Read and used 'State' dataset to get unique state ids to match with jobs. Common dataset has to be used so that ids remain same."
   ]
  },
  {
   "cell_type": "code",
   "execution_count": 140,
   "metadata": {},
   "outputs": [],
   "source": [
    "# reading self-created data-set for states\n",
    "state = pd.read_csv('state.csv')"
   ]
  },
  {
   "cell_type": "code",
   "execution_count": 142,
   "metadata": {},
   "outputs": [],
   "source": [
    "state['State'] =state['State'].str.lower()"
   ]
  },
  {
   "cell_type": "code",
   "execution_count": 143,
   "metadata": {},
   "outputs": [],
   "source": [
    "#creating state dict\n",
    "state_dict = pd.Series(state.State_id.values,index=state.State).to_dict()"
   ]
  },
  {
   "cell_type": "code",
   "execution_count": 153,
   "metadata": {},
   "outputs": [],
   "source": [
    "#state_dict"
   ]
  },
  {
   "cell_type": "code",
   "execution_count": 145,
   "metadata": {},
   "outputs": [
    {
     "data": {
      "text/html": [
       "<div>\n",
       "<style scoped>\n",
       "    .dataframe tbody tr th:only-of-type {\n",
       "        vertical-align: middle;\n",
       "    }\n",
       "\n",
       "    .dataframe tbody tr th {\n",
       "        vertical-align: top;\n",
       "    }\n",
       "\n",
       "    .dataframe thead th {\n",
       "        text-align: right;\n",
       "    }\n",
       "</style>\n",
       "<table border=\"1\" class=\"dataframe\">\n",
       "  <thead>\n",
       "    <tr style=\"text-align: right;\">\n",
       "      <th></th>\n",
       "      <th>index</th>\n",
       "      <th>Resume_title</th>\n",
       "      <th>City</th>\n",
       "      <th>location</th>\n",
       "      <th>Description</th>\n",
       "      <th>work_experiences</th>\n",
       "      <th>Educations</th>\n",
       "      <th>Skills</th>\n",
       "      <th>Links</th>\n",
       "      <th>Certificates</th>\n",
       "      <th>...</th>\n",
       "      <th>edu_unknown</th>\n",
       "      <th>Computer_Eng</th>\n",
       "      <th>Finance</th>\n",
       "      <th>HR</th>\n",
       "      <th>AI_stats</th>\n",
       "      <th>MBA</th>\n",
       "      <th>Other_specialization</th>\n",
       "      <th>resume_id</th>\n",
       "      <th>total_experience</th>\n",
       "      <th>experience_range</th>\n",
       "    </tr>\n",
       "  </thead>\n",
       "  <tbody>\n",
       "    <tr>\n",
       "      <th>0</th>\n",
       "      <td>0</td>\n",
       "      <td>java developer</td>\n",
       "      <td>Tirur</td>\n",
       "      <td>kerala</td>\n",
       "      <td>To prove myself dedicated, worthy and energeti...</td>\n",
       "      <td>{0: [{'wtitle:': 'Java Developer'}, {'wcompany...</td>\n",
       "      <td>{0: [{'e_title:': \"Bachelor's in Bachelor of C...</td>\n",
       "      <td>['java (less than 1 year)', ' jsp (less than 1...</td>\n",
       "      <td>['https://www.linkedin.com/in/mohamed-rihan-k-...</td>\n",
       "      <td>{0: [{'c_title:': 'Java Developer'}, {'c_durat...</td>\n",
       "      <td>...</td>\n",
       "      <td>0</td>\n",
       "      <td>1</td>\n",
       "      <td>0</td>\n",
       "      <td>0</td>\n",
       "      <td>0</td>\n",
       "      <td>0</td>\n",
       "      <td>0</td>\n",
       "      <td>0</td>\n",
       "      <td>0</td>\n",
       "      <td>0</td>\n",
       "    </tr>\n",
       "    <tr>\n",
       "      <th>1</th>\n",
       "      <td>1</td>\n",
       "      <td>software developer</td>\n",
       "      <td>Bengaluru</td>\n",
       "      <td>karnataka</td>\n",
       "      <td>Working as Software Developer at IngroInfo Sof...</td>\n",
       "      <td>{0: [{'wtitle:': 'JAVA DEVELOPER'}, {'wcompany...</td>\n",
       "      <td>{0: [{'e_title:': 'MCA in Master of Computer A...</td>\n",
       "      <td>['programming languages: core java', ' j2ee \\n...</td>\n",
       "      <td>['http://github.com/NK-PATEL/Train_Project', '...</td>\n",
       "      <td>{}</td>\n",
       "      <td>...</td>\n",
       "      <td>0</td>\n",
       "      <td>1</td>\n",
       "      <td>0</td>\n",
       "      <td>0</td>\n",
       "      <td>0</td>\n",
       "      <td>0</td>\n",
       "      <td>0</td>\n",
       "      <td>1</td>\n",
       "      <td>1</td>\n",
       "      <td>0</td>\n",
       "    </tr>\n",
       "    <tr>\n",
       "      <th>2</th>\n",
       "      <td>2</td>\n",
       "      <td>java developer</td>\n",
       "      <td>Pune</td>\n",
       "      <td>maharashtra</td>\n",
       "      <td>Looking for a challenging career which demands...</td>\n",
       "      <td>{0: [{'wtitle:': 'Java Developer'}, {'wcompany...</td>\n",
       "      <td>{0: [{'e_title:': \"Bachelor's in Electrical En...</td>\n",
       "      <td>['eclipse (1 year)', ' hibernate', ' spring (l...</td>\n",
       "      <td>[]</td>\n",
       "      <td>{}</td>\n",
       "      <td>...</td>\n",
       "      <td>0</td>\n",
       "      <td>1</td>\n",
       "      <td>0</td>\n",
       "      <td>0</td>\n",
       "      <td>0</td>\n",
       "      <td>0</td>\n",
       "      <td>0</td>\n",
       "      <td>2</td>\n",
       "      <td>0</td>\n",
       "      <td>0</td>\n",
       "    </tr>\n",
       "    <tr>\n",
       "      <th>3</th>\n",
       "      <td>3</td>\n",
       "      <td>seeking innovative and challenging career assi...</td>\n",
       "      <td>Pune</td>\n",
       "      <td>maharashtra</td>\n",
       "      <td>NONE</td>\n",
       "      <td>{0: [{'wtitle:': 'Java Developer'}, {'wcompany...</td>\n",
       "      <td>{0: [{'e_title:': 'BE in Computer'}, {'e_schoo...</td>\n",
       "      <td>['git', ' angular 7', ' maven', ' java', ' jen...</td>\n",
       "      <td>[]</td>\n",
       "      <td>{}</td>\n",
       "      <td>...</td>\n",
       "      <td>0</td>\n",
       "      <td>1</td>\n",
       "      <td>0</td>\n",
       "      <td>0</td>\n",
       "      <td>0</td>\n",
       "      <td>0</td>\n",
       "      <td>0</td>\n",
       "      <td>3</td>\n",
       "      <td>2</td>\n",
       "      <td>1</td>\n",
       "    </tr>\n",
       "    <tr>\n",
       "      <th>4</th>\n",
       "      <td>4</td>\n",
       "      <td>java developer</td>\n",
       "      <td>Pune</td>\n",
       "      <td>maharashtra</td>\n",
       "      <td>NONE</td>\n",
       "      <td>{0: [{'wtitle:': 'Java Developer'}, {'wcompany...</td>\n",
       "      <td>{0: [{'e_title:': 'Bachelor of Engineering in ...</td>\n",
       "      <td>['project: hr payroll systems role: java devel...</td>\n",
       "      <td>[]</td>\n",
       "      <td>{}</td>\n",
       "      <td>...</td>\n",
       "      <td>0</td>\n",
       "      <td>1</td>\n",
       "      <td>0</td>\n",
       "      <td>0</td>\n",
       "      <td>0</td>\n",
       "      <td>0</td>\n",
       "      <td>0</td>\n",
       "      <td>4</td>\n",
       "      <td>5</td>\n",
       "      <td>1</td>\n",
       "    </tr>\n",
       "  </tbody>\n",
       "</table>\n",
       "<p>5 rows × 24 columns</p>\n",
       "</div>"
      ],
      "text/plain": [
       "   index                                       Resume_title       City  \\\n",
       "0      0                                     java developer      Tirur   \n",
       "1      1                                 software developer  Bengaluru   \n",
       "2      2                                     java developer       Pune   \n",
       "3      3  seeking innovative and challenging career assi...       Pune   \n",
       "4      4                                     java developer       Pune   \n",
       "\n",
       "      location                                        Description  \\\n",
       "0       kerala  To prove myself dedicated, worthy and energeti...   \n",
       "1    karnataka  Working as Software Developer at IngroInfo Sof...   \n",
       "2  maharashtra  Looking for a challenging career which demands...   \n",
       "3  maharashtra                                               NONE   \n",
       "4  maharashtra                                               NONE   \n",
       "\n",
       "                                    work_experiences  \\\n",
       "0  {0: [{'wtitle:': 'Java Developer'}, {'wcompany...   \n",
       "1  {0: [{'wtitle:': 'JAVA DEVELOPER'}, {'wcompany...   \n",
       "2  {0: [{'wtitle:': 'Java Developer'}, {'wcompany...   \n",
       "3  {0: [{'wtitle:': 'Java Developer'}, {'wcompany...   \n",
       "4  {0: [{'wtitle:': 'Java Developer'}, {'wcompany...   \n",
       "\n",
       "                                          Educations  \\\n",
       "0  {0: [{'e_title:': \"Bachelor's in Bachelor of C...   \n",
       "1  {0: [{'e_title:': 'MCA in Master of Computer A...   \n",
       "2  {0: [{'e_title:': \"Bachelor's in Electrical En...   \n",
       "3  {0: [{'e_title:': 'BE in Computer'}, {'e_schoo...   \n",
       "4  {0: [{'e_title:': 'Bachelor of Engineering in ...   \n",
       "\n",
       "                                              Skills  \\\n",
       "0  ['java (less than 1 year)', ' jsp (less than 1...   \n",
       "1  ['programming languages: core java', ' j2ee \\n...   \n",
       "2  ['eclipse (1 year)', ' hibernate', ' spring (l...   \n",
       "3  ['git', ' angular 7', ' maven', ' java', ' jen...   \n",
       "4  ['project: hr payroll systems role: java devel...   \n",
       "\n",
       "                                               Links  \\\n",
       "0  ['https://www.linkedin.com/in/mohamed-rihan-k-...   \n",
       "1  ['http://github.com/NK-PATEL/Train_Project', '...   \n",
       "2                                                 []   \n",
       "3                                                 []   \n",
       "4                                                 []   \n",
       "\n",
       "                                        Certificates  ... edu_unknown  \\\n",
       "0  {0: [{'c_title:': 'Java Developer'}, {'c_durat...  ...           0   \n",
       "1                                                 {}  ...           0   \n",
       "2                                                 {}  ...           0   \n",
       "3                                                 {}  ...           0   \n",
       "4                                                 {}  ...           0   \n",
       "\n",
       "   Computer_Eng  Finance  HR  AI_stats  MBA  Other_specialization  resume_id  \\\n",
       "0             1        0   0         0    0                     0          0   \n",
       "1             1        0   0         0    0                     0          1   \n",
       "2             1        0   0         0    0                     0          2   \n",
       "3             1        0   0         0    0                     0          3   \n",
       "4             1        0   0         0    0                     0          4   \n",
       "\n",
       "   total_experience  experience_range  \n",
       "0                 0                 0  \n",
       "1                 1                 0  \n",
       "2                 0                 0  \n",
       "3                 2                 1  \n",
       "4                 5                 1  \n",
       "\n",
       "[5 rows x 24 columns]"
      ]
     },
     "execution_count": 145,
     "metadata": {},
     "output_type": "execute_result"
    }
   ],
   "source": [
    "resume.head()"
   ]
  },
  {
   "cell_type": "code",
   "execution_count": 146,
   "metadata": {},
   "outputs": [],
   "source": [
    "# Finally replaced locations as states ids\n",
    "resume = resume.replace({\"location\": state_dict}) \n",
    "#resume['loc_id'] = resume['location'].map(state_dict)"
   ]
  },
  {
   "cell_type": "code",
   "execution_count": 147,
   "metadata": {},
   "outputs": [
    {
     "data": {
      "text/plain": [
       "20              3040\n",
       "16              2162\n",
       "none            1452\n",
       "telangana       1369\n",
       "30              1284\n",
       "                ... \n",
       "wisconsin          1\n",
       "pallikaranai       1\n",
       "navi mumbai        1\n",
       "de                 1\n",
       "mn                 1\n",
       "Name: location, Length: 71, dtype: int64"
      ]
     },
     "execution_count": 147,
     "metadata": {},
     "output_type": "execute_result"
    }
   ],
   "source": [
    "resume['location'].value_counts()"
   ]
  },
  {
   "cell_type": "markdown",
   "metadata": {},
   "source": [
    "#### I have got location ids here. But for reporting purposes I would still need State name. Adding loc name as state name from state dict."
   ]
  },
  {
   "cell_type": "code",
   "execution_count": 148,
   "metadata": {},
   "outputs": [],
   "source": [
    "#creating city state dict\n",
    "state_dict_1 = pd.Series(state.State.values,index=state.State_id).to_dict()"
   ]
  },
  {
   "cell_type": "code",
   "execution_count": 132,
   "metadata": {},
   "outputs": [],
   "source": [
    "#state_dict_1"
   ]
  },
  {
   "cell_type": "code",
   "execution_count": 149,
   "metadata": {},
   "outputs": [],
   "source": [
    "resume['loc_name'] = resume['location'].map(state_dict_1)"
   ]
  },
  {
   "cell_type": "code",
   "execution_count": 150,
   "metadata": {},
   "outputs": [
    {
     "data": {
      "text/plain": [
       "0             kerala\n",
       "1          karnataka\n",
       "2        maharashtra\n",
       "3        maharashtra\n",
       "4        maharashtra\n",
       "            ...     \n",
       "14423         kerala\n",
       "14424            NaN\n",
       "14425    west bengal\n",
       "14426            NaN\n",
       "14427    west bengal\n",
       "Name: loc_name, Length: 14428, dtype: object"
      ]
     },
     "execution_count": 150,
     "metadata": {},
     "output_type": "execute_result"
    }
   ],
   "source": [
    "resume['loc_name']"
   ]
  },
  {
   "cell_type": "code",
   "execution_count": 151,
   "metadata": {},
   "outputs": [
    {
     "name": "stdout",
     "output_type": "stream",
     "text": [
      "<class 'pandas.core.frame.DataFrame'>\n",
      "RangeIndex: 14428 entries, 0 to 14427\n",
      "Data columns (total 25 columns):\n",
      " #   Column                  Non-Null Count  Dtype \n",
      "---  ------                  --------------  ----- \n",
      " 0   index                   14428 non-null  int64 \n",
      " 1   Resume_title            14428 non-null  object\n",
      " 2   City                    14428 non-null  object\n",
      " 3   location                14428 non-null  object\n",
      " 4   Description             14428 non-null  object\n",
      " 5   work_experiences        14428 non-null  object\n",
      " 6   Educations              14428 non-null  object\n",
      " 7   Skills                  14428 non-null  object\n",
      " 8   Links                   14428 non-null  object\n",
      " 9   Certificates            14428 non-null  object\n",
      " 10  Additional Information  14428 non-null  object\n",
      " 11  is_grad                 14428 non-null  int64 \n",
      " 12  is_postgrad             14428 non-null  int64 \n",
      " 13  is_doc                  14428 non-null  int64 \n",
      " 14  edu_unknown             14428 non-null  int64 \n",
      " 15  Computer_Eng            14428 non-null  int64 \n",
      " 16  Finance                 14428 non-null  int64 \n",
      " 17  HR                      14428 non-null  int64 \n",
      " 18  AI_stats                14428 non-null  int64 \n",
      " 19  MBA                     14428 non-null  int64 \n",
      " 20  Other_specialization    14428 non-null  int64 \n",
      " 21  resume_id               14428 non-null  int64 \n",
      " 22  total_experience        14428 non-null  int64 \n",
      " 23  experience_range        14428 non-null  int64 \n",
      " 24  loc_name                11326 non-null  object\n",
      "dtypes: int64(14), object(11)\n",
      "memory usage: 2.8+ MB\n"
     ]
    }
   ],
   "source": [
    "resume.info()"
   ]
  },
  {
   "cell_type": "code",
   "execution_count": 2,
   "metadata": {},
   "outputs": [],
   "source": [
    "resume.loc[resume['location'] == 'none', 'location'] = 1\n",
    "resume['location']=resume['location'].replace(regex='([a-zA-Z])', value=0)\n",
    "resume['loc_name'].fillna('india' , inplace = True) "
   ]
  },
  {
   "cell_type": "code",
   "execution_count": 152,
   "metadata": {},
   "outputs": [],
   "source": [
    "# resume_temp4 = resume.copy()\n",
    "# resume_temp4.to_csv('wip/resume_sorted4.csv', index=False)"
   ]
  },
  {
   "cell_type": "markdown",
   "metadata": {},
   "source": [
    "##########################################################################################################################\n",
    "\n",
    "## e. Skills\n",
    "\n",
    "\n",
    "For now, decided to keep skills as is. Just lowering the str values.\n",
    "\n",
    "##########################################################################################################################"
   ]
  },
  {
   "cell_type": "code",
   "execution_count": 277,
   "metadata": {},
   "outputs": [
    {
     "data": {
      "text/plain": [
       "['none']                                                                                                                                                                                                                                                                                                                                                                                                     1532\n",
       "['hdfs', ' sqoop', ' clustering', ' data mining', ' data science']                                                                                                                                                                                                                                                                                                                                             60\n",
       "['java']                                                                                                                                                                                                                                                                                                                                                                                                       46\n",
       "['php']                                                                                                                                                                                                                                                                                                                                                                                                        39\n",
       "['python']                                                                                                                                                                                                                                                                                                                                                                                                     39\n",
       "                                                                                                                                                                                                                                                                                                                                                                                                             ... \n",
       "['html (less than 1 year)', ' java (less than 1 year)', ' adv (less than 1 year)', ' c# (less than 1 year)', ' c++ (less than 1 year)']                                                                                                                                                                                                                                                                         1\n",
       "['visual studio', ' django', ' git', ' html', ' javascript', ' flask']                                                                                                                                                                                                                                                                                                                                          1\n",
       "['languages: java', ' oops', ' python (beginner) scripting language: html', \" css tools & ide's: eclipse\", ' netbeans', ' oracle sql plus database my sql certifications:', ' the complete web developer course 2.0 from udemy project undertaken: mini project: project name: \"library management system\" domain: dbms technology: .net', ' c# role description: group leader final year b.e. project:']       1\n",
       "['ios development (less than 1 year)']                                                                                                                                                                                                                                                                                                                                                                          1\n",
       "['linux', 'python']                                                                                                                                                                                                                                                                                                                                                                                             1\n",
       "Name: Skills, Length: 8242, dtype: int64"
      ]
     },
     "execution_count": 277,
     "metadata": {},
     "output_type": "execute_result"
    }
   ],
   "source": [
    "# resume['Skills'].nunique()\n",
    "resume['Skills'].value_counts()"
   ]
  },
  {
   "cell_type": "code",
   "execution_count": 13,
   "metadata": {},
   "outputs": [],
   "source": [
    "resume['Skills']=resume['Skills'].str.lower()"
   ]
  },
  {
   "cell_type": "markdown",
   "metadata": {},
   "source": [
    "##########################################################################################################################\n",
    "\n",
    "## e. Description, certificates, links, Additional information\n",
    "\n",
    "\n",
    "For now, decided to keep them as is. Will work on it as needed to match with Job descriptions.\n",
    "\n",
    "##########################################################################################################################"
   ]
  },
  {
   "cell_type": "code",
   "execution_count": null,
   "metadata": {},
   "outputs": [],
   "source": []
  },
  {
   "cell_type": "code",
   "execution_count": null,
   "metadata": {},
   "outputs": [],
   "source": []
  },
  {
   "cell_type": "code",
   "execution_count": null,
   "metadata": {},
   "outputs": [],
   "source": []
  },
  {
   "cell_type": "code",
   "execution_count": null,
   "metadata": {},
   "outputs": [],
   "source": []
  },
  {
   "cell_type": "code",
   "execution_count": null,
   "metadata": {},
   "outputs": [],
   "source": []
  },
  {
   "cell_type": "code",
   "execution_count": null,
   "metadata": {},
   "outputs": [],
   "source": []
  },
  {
   "cell_type": "code",
   "execution_count": null,
   "metadata": {},
   "outputs": [],
   "source": []
  },
  {
   "cell_type": "code",
   "execution_count": null,
   "metadata": {},
   "outputs": [],
   "source": []
  },
  {
   "cell_type": "code",
   "execution_count": null,
   "metadata": {},
   "outputs": [],
   "source": []
  },
  {
   "cell_type": "code",
   "execution_count": null,
   "metadata": {},
   "outputs": [],
   "source": []
  },
  {
   "cell_type": "code",
   "execution_count": null,
   "metadata": {},
   "outputs": [],
   "source": []
  },
  {
   "cell_type": "code",
   "execution_count": null,
   "metadata": {},
   "outputs": [],
   "source": []
  },
  {
   "cell_type": "code",
   "execution_count": null,
   "metadata": {},
   "outputs": [],
   "source": []
  },
  {
   "cell_type": "code",
   "execution_count": null,
   "metadata": {},
   "outputs": [],
   "source": []
  },
  {
   "cell_type": "code",
   "execution_count": null,
   "metadata": {},
   "outputs": [],
   "source": []
  },
  {
   "cell_type": "code",
   "execution_count": null,
   "metadata": {},
   "outputs": [],
   "source": []
  },
  {
   "cell_type": "code",
   "execution_count": null,
   "metadata": {},
   "outputs": [],
   "source": []
  },
  {
   "cell_type": "code",
   "execution_count": null,
   "metadata": {},
   "outputs": [],
   "source": []
  },
  {
   "cell_type": "code",
   "execution_count": null,
   "metadata": {},
   "outputs": [],
   "source": []
  },
  {
   "cell_type": "code",
   "execution_count": null,
   "metadata": {},
   "outputs": [],
   "source": []
  },
  {
   "cell_type": "code",
   "execution_count": null,
   "metadata": {},
   "outputs": [],
   "source": []
  },
  {
   "cell_type": "code",
   "execution_count": null,
   "metadata": {},
   "outputs": [],
   "source": []
  },
  {
   "cell_type": "code",
   "execution_count": null,
   "metadata": {},
   "outputs": [],
   "source": []
  },
  {
   "cell_type": "code",
   "execution_count": null,
   "metadata": {},
   "outputs": [],
   "source": []
  },
  {
   "cell_type": "code",
   "execution_count": null,
   "metadata": {},
   "outputs": [],
   "source": [
    "#removing nulls\n",
    "#resume.drop(resume.columns[0], axis = 1, inplace = True) "
   ]
  },
  {
   "cell_type": "code",
   "execution_count": 56,
   "metadata": {},
   "outputs": [],
   "source": [
    "unique_title = resume['Resume_title'].unique().tolist()"
   ]
  },
  {
   "cell_type": "code",
   "execution_count": 57,
   "metadata": {},
   "outputs": [
    {
     "data": {
      "text/plain": [
       "4513"
      ]
     },
     "execution_count": 57,
     "metadata": {},
     "output_type": "execute_result"
    }
   ],
   "source": [
    "len(unique_title)"
   ]
  },
  {
   "cell_type": "code",
   "execution_count": 59,
   "metadata": {},
   "outputs": [],
   "source": [
    "unique_title.sort()"
   ]
  },
  {
   "cell_type": "code",
   "execution_count": 60,
   "metadata": {},
   "outputs": [
    {
     "name": "stderr",
     "output_type": "stream",
     "text": [
      "C:\\Users\\shail\\anaconda\\lib\\site-packages\\fuzzywuzzy\\fuzz.py:11: UserWarning: Using slow pure-python SequenceMatcher. Install python-Levenshtein to remove this warning\n",
      "  warnings.warn('Using slow pure-python SequenceMatcher. Install python-Levenshtein to remove this warning')\n"
     ]
    }
   ],
   "source": [
    "from fuzzywuzzy import process, fuzz"
   ]
  },
  {
   "cell_type": "code",
   "execution_count": 1,
   "metadata": {},
   "outputs": [],
   "source": [
    "#Create tuples of resume titles, matched titles names, and the score\n",
    "title_score_sort = [(x,) + i\n",
    "             for x in unique_title \n",
    "             for i in process.extract(x, unique_title, scorer=fuzz.token_sort_ratio)]\n",
    "#Create a dataframe from the tuples\n",
    "title_similarity_sort = pd.DataFrame(title_score_sort, columns=['title_orinigal','title_checked','title_score_sort'])"
   ]
  },
  {
   "cell_type": "code",
   "execution_count": 113,
   "metadata": {},
   "outputs": [
    {
     "name": "stdout",
     "output_type": "stream",
     "text": [
      "<class 'pandas.core.frame.DataFrame'>\n",
      "RangeIndex: 22565 entries, 0 to 22564\n",
      "Data columns (total 3 columns):\n",
      " #   Column            Non-Null Count  Dtype \n",
      "---  ------            --------------  ----- \n",
      " 0   title_new         22565 non-null  object\n",
      " 1   title_original    22565 non-null  object\n",
      " 2   title_score_sort  22565 non-null  int64 \n",
      "dtypes: int64(1), object(2)\n",
      "memory usage: 529.0+ KB\n"
     ]
    }
   ],
   "source": [
    "title_similarity_sort.info()"
   ]
  },
  {
   "cell_type": "code",
   "execution_count": 70,
   "metadata": {},
   "outputs": [
    {
     "data": {
      "text/html": [
       "<div>\n",
       "<style scoped>\n",
       "    .dataframe tbody tr th:only-of-type {\n",
       "        vertical-align: middle;\n",
       "    }\n",
       "\n",
       "    .dataframe tbody tr th {\n",
       "        vertical-align: top;\n",
       "    }\n",
       "\n",
       "    .dataframe thead th {\n",
       "        text-align: right;\n",
       "    }\n",
       "</style>\n",
       "<table border=\"1\" class=\"dataframe\">\n",
       "  <thead>\n",
       "    <tr style=\"text-align: right;\">\n",
       "      <th></th>\n",
       "      <th>title_original1</th>\n",
       "      <th>title_checked</th>\n",
       "      <th>title_score_sort</th>\n",
       "    </tr>\n",
       "  </thead>\n",
       "  <tbody>\n",
       "    <tr>\n",
       "      <th>0</th>\n",
       "      <td>java developer</td>\n",
       "      <td>java developer</td>\n",
       "      <td>100</td>\n",
       "    </tr>\n",
       "    <tr>\n",
       "      <th>1</th>\n",
       "      <td>java developer</td>\n",
       "      <td>developer( java)</td>\n",
       "      <td>100</td>\n",
       "    </tr>\n",
       "    <tr>\n",
       "      <th>2</th>\n",
       "      <td>java developer</td>\n",
       "      <td>java devloper</td>\n",
       "      <td>96</td>\n",
       "    </tr>\n",
       "    <tr>\n",
       "      <th>3</th>\n",
       "      <td>java developer</td>\n",
       "      <td>sr java developer</td>\n",
       "      <td>90</td>\n",
       "    </tr>\n",
       "    <tr>\n",
       "      <th>4</th>\n",
       "      <td>java developer</td>\n",
       "      <td>jr java developer</td>\n",
       "      <td>90</td>\n",
       "    </tr>\n",
       "  </tbody>\n",
       "</table>\n",
       "</div>"
      ],
      "text/plain": [
       "  title_original1      title_checked  title_score_sort\n",
       "0  java developer     java developer               100\n",
       "1  java developer   developer( java)               100\n",
       "2  java developer      java devloper                96\n",
       "3  java developer  sr java developer                90\n",
       "4  java developer  jr java developer                90"
      ]
     },
     "execution_count": 70,
     "metadata": {},
     "output_type": "execute_result"
    }
   ],
   "source": [
    "title_similarity_sort.head()"
   ]
  },
  {
   "cell_type": "code",
   "execution_count": 76,
   "metadata": {},
   "outputs": [],
   "source": [
    "new_score = title_similarity_sort[title_similarity_sort['title_score_sort']>80]"
   ]
  },
  {
   "cell_type": "code",
   "execution_count": 77,
   "metadata": {},
   "outputs": [
    {
     "name": "stdout",
     "output_type": "stream",
     "text": [
      "<class 'pandas.core.frame.DataFrame'>\n",
      "Int64Index: 10056 entries, 0 to 22560\n",
      "Data columns (total 3 columns):\n",
      " #   Column            Non-Null Count  Dtype \n",
      "---  ------            --------------  ----- \n",
      " 0   title_original1   10056 non-null  object\n",
      " 1   title_checked     10056 non-null  object\n",
      " 2   title_score_sort  10056 non-null  int64 \n",
      "dtypes: int64(1), object(2)\n",
      "memory usage: 314.2+ KB\n"
     ]
    }
   ],
   "source": [
    "new_score.info()"
   ]
  },
  {
   "cell_type": "code",
   "execution_count": 66,
   "metadata": {},
   "outputs": [],
   "source": [
    "title_similarity_sort=pd.read_csv('wip/resume_title.csv')"
   ]
  },
  {
   "cell_type": "code",
   "execution_count": 69,
   "metadata": {},
   "outputs": [],
   "source": [
    "title_similarity_sort.rename({'title_new':'title_original1','title_original':'title_checked'},axis=1,inplace = True)"
   ]
  },
  {
   "cell_type": "code",
   "execution_count": 74,
   "metadata": {},
   "outputs": [],
   "source": [
    "# resume['resume_title_new']=(title_similarity_sort['title_score_sort']>80\n",
    "#                             & title_similarity_sort['title_checked'] == resume['Resume_title'], \n",
    "#                             title_similarity_sort['title_original1'] )"
   ]
  },
  {
   "cell_type": "code",
   "execution_count": null,
   "metadata": {},
   "outputs": [],
   "source": [
    "for i in range(new_score.shape[0]):\n",
    "    if new_score['title_score_sort'][i] >= 80 & new_score['title_checked'][i] is in new_score['title_new']:\n",
    "        where new_score['title_original1']=[new_score['title_checked'][i]], replace with new_score['title_original1'][i]"
   ]
  },
  {
   "cell_type": "code",
   "execution_count": null,
   "metadata": {},
   "outputs": [],
   "source": [
    "unique_original_titles=title_original.unique\n",
    "unique_new_titles=title_new.unique\n",
    "for title in title_old:\n",
    " if score >80:\n",
    "    for unique in title_new:\n",
    "    {unique: values where score>80}\n",
    "     if values is in unique_original_titles:\n",
    "        remove value from list"
   ]
  },
  {
   "cell_type": "code",
   "execution_count": 71,
   "metadata": {},
   "outputs": [
    {
     "name": "stdout",
     "output_type": "stream",
     "text": [
      "<class 'pandas.core.frame.DataFrame'>\n",
      "RangeIndex: 14428 entries, 0 to 14427\n",
      "Data columns (total 24 columns):\n",
      " #   Column                  Non-Null Count  Dtype \n",
      "---  ------                  --------------  ----- \n",
      " 0   index                   14428 non-null  int64 \n",
      " 1   Resume_title            14428 non-null  object\n",
      " 2   City                    14428 non-null  object\n",
      " 3   location                14428 non-null  object\n",
      " 4   Description             14428 non-null  object\n",
      " 5   work_experiences        14428 non-null  object\n",
      " 6   Educations              14428 non-null  object\n",
      " 7   Skills                  14428 non-null  object\n",
      " 8   Links                   14428 non-null  object\n",
      " 9   Certificates            14428 non-null  object\n",
      " 10  Additional Information  14428 non-null  object\n",
      " 11  is_grad                 14428 non-null  int64 \n",
      " 12  is_postgrad             14428 non-null  int64 \n",
      " 13  is_doc                  14428 non-null  int64 \n",
      " 14  edu_unknown             14428 non-null  int64 \n",
      " 15  Computer_Eng            14428 non-null  int64 \n",
      " 16  Finance                 14428 non-null  int64 \n",
      " 17  HR                      14428 non-null  int64 \n",
      " 18  AI_stats                14428 non-null  int64 \n",
      " 19  MBA                     14428 non-null  int64 \n",
      " 20  Other_specialization    14428 non-null  int64 \n",
      " 21  resume_id               14428 non-null  int64 \n",
      " 22  total_experience        14428 non-null  int32 \n",
      " 23  experience_range        14428 non-null  int64 \n",
      "dtypes: int32(1), int64(13), object(10)\n",
      "memory usage: 2.6+ MB\n"
     ]
    }
   ],
   "source": [
    "resume.info()"
   ]
  },
  {
   "cell_type": "code",
   "execution_count": 115,
   "metadata": {},
   "outputs": [
    {
     "data": {
      "text/plain": [
       "4503"
      ]
     },
     "execution_count": 115,
     "metadata": {},
     "output_type": "execute_result"
    }
   ],
   "source": [
    "title_similarity_sort['title_original'].nunique()"
   ]
  },
  {
   "cell_type": "code",
   "execution_count": 116,
   "metadata": {},
   "outputs": [
    {
     "data": {
      "text/plain": [
       "4513"
      ]
     },
     "execution_count": 116,
     "metadata": {},
     "output_type": "execute_result"
    }
   ],
   "source": [
    "title_similarity_sort['title_new'].nunique()"
   ]
  },
  {
   "cell_type": "code",
   "execution_count": 140,
   "metadata": {},
   "outputs": [],
   "source": [
    "title_similarity_sort.to_csv('resume_title.csv', index=False)"
   ]
  },
  {
   "cell_type": "markdown",
   "metadata": {},
   "source": [
    "## As my fuzzy -wuzzy not working so I choose to go for 3 different resume titles \n",
    "1. Java\n",
    "2. .net\n",
    "3. python\n",
    "4. php"
   ]
  },
  {
   "cell_type": "code",
   "execution_count": 232,
   "metadata": {},
   "outputs": [
    {
     "name": "stderr",
     "output_type": "stream",
     "text": [
      "C:\\Users\\shail\\anaconda\\lib\\site-packages\\ipykernel_launcher.py:4: SettingWithCopyWarning: \n",
      "A value is trying to be set on a copy of a slice from a DataFrame.\n",
      "Try using .loc[row_indexer,col_indexer] = value instead\n",
      "\n",
      "See the caveats in the documentation: https://pandas.pydata.org/pandas-docs/stable/user_guide/indexing.html#returning-a-view-versus-a-copy\n",
      "  after removing the cwd from sys.path.\n"
     ]
    }
   ],
   "source": [
    "# pullin java\n",
    "resume_java = resume.loc[resume['Resume_title'].str.contains('java', na=False)]\n",
    "resume_java.to_csv('resume_java.csv', index=False)\n",
    "resume_java['Resume_title'] = 'java developer'\n",
    "resume.loc[resume.Resume_title.str.contains('java', na=False), \"Resume_title\"] = \"java developer\""
   ]
  },
  {
   "cell_type": "code",
   "execution_count": 233,
   "metadata": {},
   "outputs": [
    {
     "name": "stderr",
     "output_type": "stream",
     "text": [
      "C:\\Users\\shail\\anaconda\\lib\\site-packages\\ipykernel_launcher.py:4: SettingWithCopyWarning: \n",
      "A value is trying to be set on a copy of a slice from a DataFrame.\n",
      "Try using .loc[row_indexer,col_indexer] = value instead\n",
      "\n",
      "See the caveats in the documentation: https://pandas.pydata.org/pandas-docs/stable/user_guide/indexing.html#returning-a-view-versus-a-copy\n",
      "  after removing the cwd from sys.path.\n"
     ]
    }
   ],
   "source": [
    "### Now .net \n",
    "resume_net = resume.loc[resume['Resume_title'].str.match('\\.net.*dev|dev.*\\.net')]\n",
    "resume_net.to_csv('resume_net.csv', index=False)\n",
    "resume_net['Resume_title'] = '.net developer'\n",
    "resume.loc[resume['Resume_title'].str.match('\\.net.*dev|dev.*\\.net'), \"Resume_title\"] = \".net developer\""
   ]
  },
  {
   "cell_type": "code",
   "execution_count": 234,
   "metadata": {
    "scrolled": true
   },
   "outputs": [
    {
     "name": "stderr",
     "output_type": "stream",
     "text": [
      "C:\\Users\\shail\\anaconda\\lib\\site-packages\\ipykernel_launcher.py:4: SettingWithCopyWarning: \n",
      "A value is trying to be set on a copy of a slice from a DataFrame.\n",
      "Try using .loc[row_indexer,col_indexer] = value instead\n",
      "\n",
      "See the caveats in the documentation: https://pandas.pydata.org/pandas-docs/stable/user_guide/indexing.html#returning-a-view-versus-a-copy\n",
      "  after removing the cwd from sys.path.\n"
     ]
    }
   ],
   "source": [
    "### Now python\n",
    "resume_python = resume.loc[resume['Resume_title'].str.match('python.*dev|dev.*python')]\n",
    "resume_python.to_csv('resume_python.csv', index=False)\n",
    "resume_python['Resume_title'] = 'python developer'\n",
    "resume.loc[resume['Resume_title'].str.match('python.*dev|dev.*python'), \"Resume_title\"] = \"python developer\"\n"
   ]
  },
  {
   "cell_type": "code",
   "execution_count": 235,
   "metadata": {},
   "outputs": [
    {
     "name": "stderr",
     "output_type": "stream",
     "text": [
      "C:\\Users\\shail\\anaconda\\lib\\site-packages\\ipykernel_launcher.py:4: SettingWithCopyWarning: \n",
      "A value is trying to be set on a copy of a slice from a DataFrame.\n",
      "Try using .loc[row_indexer,col_indexer] = value instead\n",
      "\n",
      "See the caveats in the documentation: https://pandas.pydata.org/pandas-docs/stable/user_guide/indexing.html#returning-a-view-versus-a-copy\n",
      "  after removing the cwd from sys.path.\n"
     ]
    }
   ],
   "source": [
    "### Now php\n",
    "resume_php = resume.loc[resume['Resume_title'].str.match('php.*dev|dev.*php')]\n",
    "resume_php.to_csv('resume_php.csv', index=False)\n",
    "resume_php['Resume_title'] = 'php developer'\n",
    "resume.loc[resume['Resume_title'].str.match('php.*dev|dev.*php'), \"Resume_title\"] = \"php developer\""
   ]
  },
  {
   "cell_type": "code",
   "execution_count": 245,
   "metadata": {},
   "outputs": [],
   "source": [
    "t= resume.copy()\n",
    "t.to_csv('resume with 4 titles worked.csv', index=False)"
   ]
  },
  {
   "cell_type": "code",
   "execution_count": 236,
   "metadata": {},
   "outputs": [
    {
     "data": {
      "text/plain": [
       "php developer                                                                                                                                                                                                      1516\n",
       "java developer                                                                                                                                                                                                     1477\n",
       "python developer                                                                                                                                                                                                   1113\n",
       "software developer                                                                                                                                                                                                  965\n",
       "developer                                                                                                                                                                                                           737\n",
       "                                                                                                                                                                                                                   ... \n",
       "executive- admin & hr auditor                                                                                                                                                                                         1\n",
       "information system architect for dxc technology - servicenow                                                                                                                                                          1\n",
       "data entry auditor                                                                                                                                                                                                    1\n",
       "two years of it experience as a software engineer / python developer. domain knowledge in web application development using django, flask inclusive of microservices in graphql and rest. familiarity with elk.       1\n",
       "manager- it/network department - m/s deemtech software pvt. ltd                                                                                                                                                       1\n",
       "Name: Resume_title, Length: 3956, dtype: int64"
      ]
     },
     "execution_count": 236,
     "metadata": {},
     "output_type": "execute_result"
    }
   ],
   "source": [
    "resume['Resume_title'].value_counts()"
   ]
  },
  {
   "cell_type": "code",
   "execution_count": 237,
   "metadata": {},
   "outputs": [],
   "source": [
    "r_df = pd.concat([resume_java,resume_net,resume_python,resume_php],ignore_index=True)"
   ]
  },
  {
   "cell_type": "code",
   "execution_count": 238,
   "metadata": {},
   "outputs": [
    {
     "name": "stdout",
     "output_type": "stream",
     "text": [
      "<class 'pandas.core.frame.DataFrame'>\n",
      "RangeIndex: 4149 entries, 0 to 4148\n",
      "Data columns (total 21 columns):\n",
      " #   Column                  Non-Null Count  Dtype  \n",
      "---  ------                  --------------  -----  \n",
      " 0   Resume_title            4149 non-null   object \n",
      " 1   City                    4149 non-null   object \n",
      " 2   State                   4149 non-null   object \n",
      " 3   Description             4149 non-null   object \n",
      " 4   work_experiences        4149 non-null   object \n",
      " 5   Educations              4149 non-null   object \n",
      " 6   Skills                  4149 non-null   object \n",
      " 7   Links                   4149 non-null   object \n",
      " 8   Certificates            4149 non-null   object \n",
      " 9   Additional Information  4149 non-null   object \n",
      " 10  total_experience        4149 non-null   float64\n",
      " 11  Is_grad                 4149 non-null   int32  \n",
      " 12  Is_postgrad             4149 non-null   int32  \n",
      " 13  Is_doc                  4149 non-null   int32  \n",
      " 14  edu_unknown             4149 non-null   int32  \n",
      " 15  Computer_Eng            4149 non-null   int32  \n",
      " 16  Finance                 4149 non-null   int32  \n",
      " 17  HR                      4149 non-null   int32  \n",
      " 18  AI_stats                4149 non-null   int32  \n",
      " 19  MBA                     4149 non-null   int32  \n",
      " 20  Other_specialization    4149 non-null   int32  \n",
      "dtypes: float64(1), int32(10), object(10)\n",
      "memory usage: 518.8+ KB\n"
     ]
    }
   ],
   "source": [
    "r_df.info()\n"
   ]
  },
  {
   "cell_type": "code",
   "execution_count": 239,
   "metadata": {},
   "outputs": [],
   "source": [
    "r_df.to_csv('r_df.csv', index=False)"
   ]
  },
  {
   "cell_type": "code",
   "execution_count": 240,
   "metadata": {},
   "outputs": [
    {
     "data": {
      "text/plain": [
       "php developer       1516\n",
       "java developer      1477\n",
       "python developer    1113\n",
       ".net developer        43\n",
       "Name: Resume_title, dtype: int64"
      ]
     },
     "execution_count": 240,
     "metadata": {},
     "output_type": "execute_result"
    }
   ],
   "source": [
    "r_df['Resume_title'].value_counts()"
   ]
  },
  {
   "cell_type": "code",
   "execution_count": 243,
   "metadata": {},
   "outputs": [
    {
     "data": {
      "text/plain": [
       "Text(0, 0.5, 'Number of Jobs')"
      ]
     },
     "execution_count": 243,
     "metadata": {},
     "output_type": "execute_result"
    },
    {
     "data": {
      "image/png": "[encoded data removed]",
      "text/plain": [
       "<Figure size 432x288 with 1 Axes>"
      ]
     },
     "metadata": {
      "needs_background": "light"
     },
     "output_type": "display_data"
    }
   ],
   "source": [
    "r_df['Resume_title'].value_counts().plot(cmap='Greens_r',kind='bar')\n",
    "plt.xlabel(\"Job Titles\")\n",
    "#plt.xticks(rotation=0)\n",
    "plt.ylabel(\"Number of Jobs\")"
   ]
  },
  {
   "cell_type": "code",
   "execution_count": 244,
   "metadata": {},
   "outputs": [
    {
     "data": {
      "text/plain": [
       "Text(0, 0.5, 'Number of Jobs')"
      ]
     },
     "execution_count": 244,
     "metadata": {},
     "output_type": "execute_result"
    },
    {
     "data": {
      "image/png": "[encoded data removed]",
      "text/plain": [
       "<Figure size 432x288 with 1 Axes>"
      ]
     },
     "metadata": {
      "needs_background": "light"
     },
     "output_type": "display_data"
    }
   ],
   "source": [
    "resume['Resume_title'].value_counts()[:20].plot(cmap='Greens_r',kind='bar')\n",
    "plt.xlabel(\"Job Titles\")\n",
    "#plt.xticks(rotation=0)\n",
    "plt.ylabel(\"Number of Jobs\")"
   ]
  },
  {
   "cell_type": "code",
   "execution_count": 394,
   "metadata": {},
   "outputs": [],
   "source": [
    "#title_similarity_sort.rename({'title_original':'Resume_title'},axis=1,inplace=True)"
   ]
  },
  {
   "cell_type": "code",
   "execution_count": 453,
   "metadata": {},
   "outputs": [],
   "source": [
    "#temp_df1 = title_similarity_sort.drop_duplicates(subset='Resume_title')"
   ]
  },
  {
   "cell_type": "code",
   "execution_count": 398,
   "metadata": {},
   "outputs": [],
   "source": [
    "#n=title_similarity_sort.copy()"
   ]
  },
  {
   "cell_type": "code",
   "execution_count": null,
   "metadata": {},
   "outputs": [],
   "source": [
    "# #n.['t_new_sorted']= ='x'\n",
    "# n['a']= n.loc[n['title_score_sort']>80, \"title_new\"]\n",
    "# #, n['Resume_title']] = n['title_new']\n",
    "# n.head(20)"
   ]
  },
  {
   "cell_type": "code",
   "execution_count": 440,
   "metadata": {},
   "outputs": [],
   "source": [
    "#temp_df1 = n.drop_duplicates(subset='Resume_title')"
   ]
  },
  {
   "cell_type": "code",
   "execution_count": 448,
   "metadata": {},
   "outputs": [],
   "source": [
    "#r1=r1.merge(temp_df , on = ['Resume_title'], how='left')"
   ]
  },
  {
   "cell_type": "markdown",
   "metadata": {},
   "source": [
    "We have sorted titles and scores in 'title_similarity_sort' and we have to merge in master dataset that's resume"
   ]
  },
  {
   "cell_type": "code",
   "execution_count": 363,
   "metadata": {},
   "outputs": [],
   "source": [
    "#temp_df = title_similarity_sort.drop_duplicates(subset='Resume_title')"
   ]
  }
 ],
 "metadata": {
  "kernelspec": {
   "display_name": "Python 3",
   "language": "python",
   "name": "python3"
  },
  "language_info": {
   "codemirror_mode": {
    "name": "ipython",
    "version": 3
   },
   "file_extension": ".py",
   "mimetype": "text/x-python",
   "name": "python",
   "nbconvert_exporter": "python",
   "pygments_lexer": "ipython3",
   "version": "3.7.6"
  }
 },
 "nbformat": 4,
 "nbformat_minor": 4
}
